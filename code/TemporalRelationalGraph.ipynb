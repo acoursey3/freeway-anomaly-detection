{
 "cells": [
  {
   "cell_type": "markdown",
   "metadata": {},
   "source": [
    "# Data to Temporal Relational Graph\n",
    "\n",
    "Preprocessing code to put the traffic data intothe proposed temporal relational graph data structure."
   ]
  },
  {
   "cell_type": "code",
   "execution_count": 108,
   "metadata": {},
   "outputs": [],
   "source": [
    "import pandas as pd\n",
    "import numpy as np\n",
    "from datetime import datetime, timedelta\n",
    "\n",
    "import matplotlib.pyplot as plt\n",
    "import matplotlib.cm as cm\n",
    "from matplotlib.animation import FuncAnimation, PillowWriter\n",
    "\n",
    "import networkx as nx\n",
    "from torch_geometric.utils import to_networkx\n",
    "from torch_geometric.data import Data\n",
    "import torch\n",
    "\n",
    "from models import RelationalSTAE\n",
    "from datautils import make_graph_sequence, plot_traffic_graph, get_day_data, normalize_data, generate_relational_edges, generate_edges\n",
    "\n",
    "from tqdm import tqdm\n",
    "import optuna"
   ]
  },
  {
   "cell_type": "code",
   "execution_count": null,
   "metadata": {},
   "outputs": [],
   "source": []
  },
  {
   "cell_type": "code",
   "execution_count": 92,
   "metadata": {},
   "outputs": [],
   "source": [
    "def get_full_data():\n",
    "    valid_days = [10, 11, 15, 16, 25] # chosen because they contain accidents of interest we want to detect (note index 10 is Oct 11 and so on)\n",
    "    data = pd.read_csv('../data/data_with_label.csv')\n",
    "    melted = pd.melt(data, id_vars=['day', 'milemarker', 'human_label', 'crash_record', 'unix_time'], value_vars=['lane1_speed', 'lane2_speed', 'lane3_speed', 'lane4_speed'], value_name='speed').sort_values(['unix_time', 'milemarker']).drop('variable', axis=1)\n",
    "    melted2 = pd.melt(data, id_vars=['day', 'milemarker', 'human_label', 'crash_record', 'unix_time'], value_vars=['lane1_occ', 'lane2_occ', 'lane3_occ', 'lane4_occ'], value_name='occ').sort_values(['unix_time', 'milemarker']).drop('variable', axis=1)\n",
    "    melted3 = pd.melt(data, id_vars=['day', 'milemarker', 'human_label', 'crash_record', 'unix_time'], value_vars=['lane1_volume', 'lane2_volume', 'lane3_volume', 'lane4_volume'], value_name='volume').sort_values(['unix_time', 'milemarker']).drop('variable', axis=1)\n",
    "    melted['occ'] = melted2['occ']\n",
    "    melted['volume'] = melted3['volume']\n",
    "\n",
    "    melted = melted[melted['day'] != 17]\n",
    "\n",
    "    train_data = melted[(melted['day'] != valid_days[0]) & (melted['day'] != valid_days[1]) & (melted['day'] != valid_days[2]) & (melted['day'] != valid_days[3]) & (melted['day'] != valid_days[4])]\n",
    "    test_data = melted[(melted['day'] == valid_days[0]) | (melted['day'] == valid_days[1]) | (melted['day'] == valid_days[2]) | (melted['day'] == valid_days[3]) | (melted['day'] == valid_days[4])]\n",
    "    return train_data, test_data"
   ]
  },
  {
   "cell_type": "code",
   "execution_count": 97,
   "metadata": {},
   "outputs": [],
   "source": [
    "def label_anomalies(data):\n",
    "    human_label_times = np.unique(data[data['human_label']==1]['unix_time'])\n",
    "    for human_label_time in human_label_times:\n",
    "        data.loc[(data['unix_time'] - human_label_time <= 7200) & (data['unix_time'] - human_label_time >= 0), 'anomaly'] = 1\n",
    "\n",
    "    crash_label_times = np.unique(data[data['crash_record']==1]['unix_time'])\n",
    "    for crash_label_time in crash_label_times:\n",
    "        data.loc[(data['unix_time'] - crash_label_time <= 7200) & (data['unix_time'] - crash_label_time >= -1800), 'anomaly'] = 1\n",
    "\n",
    "    data.fillna(0, inplace=True)\n",
    "\n",
    "    return data"
   ]
  },
  {
   "cell_type": "code",
   "execution_count": 93,
   "metadata": {},
   "outputs": [],
   "source": [
    "train_data, test_data = get_full_data()\n",
    "train_data = normalize_data(train_data)"
   ]
  },
  {
   "cell_type": "code",
   "execution_count": 98,
   "metadata": {},
   "outputs": [],
   "source": [
    "train_data = label_anomalies(train_data)"
   ]
  },
  {
   "cell_type": "code",
   "execution_count": 142,
   "metadata": {},
   "outputs": [],
   "source": [
    "def sequence_rstae(data, timesteps):\n",
    "    sequence = []\n",
    "    relational_edges, relations = generate_relational_edges(milemarkers=list(range(49)), timesteps=timesteps)\n",
    "    static_edges = generate_edges(milemarkers=list(range(49)))\n",
    "    days = data['day']\n",
    "    anomalies = data['anomaly']\n",
    "    data_vals = data[['occ', 'speed', 'volume']]\n",
    "    unix = data['unix_time']\n",
    "    unique_times = np.unique(data['unix_time'])\n",
    "\n",
    "    for t in tqdm(unique_times[timesteps:]): # skip first 'timesteps'\n",
    "        data_t = []\n",
    "        backward_index = range(timesteps-1, -1, -1)\n",
    "        backward_times = [unique_times[i] for i in backward_index]\n",
    "        curr_day = np.unique(data[data['unix_time']==backward_times[-1]]['day'])[0]\n",
    "        contains_anomaly = np.any([np.unique(data[data['unix_time']==i]['anomaly'])[0] for i in backward_times])\n",
    "        is_curr_day = np.any([np.unique(data[data['unix_time']==i]['day'])[0]==curr_day for i in backward_times])\n",
    "        # is_curr_day = np.all([days[t-i]==curr_day for i in backward_index])\n",
    "\n",
    "        if contains_anomaly or not is_curr_day:\n",
    "            continue\n",
    "\n",
    "        for i in backward_times:\n",
    "            data_t.append(data[data['unix_time']==i][['occ', 'speed', 'volume']].to_numpy()) # assumes time indices come sequentially, with full data it may not\n",
    "\n",
    "        node_data = np.concatenate(data_t)\n",
    "        pyg_data = Data(x=torch.tensor(node_data, dtype=torch.float32), edge_index=relational_edges, edge_attr=torch.tensor(relations, dtype=torch.long))\n",
    "        \n",
    "        curr_data = data_t[-1]\n",
    "        curr_graph = Data(x=torch.tensor(curr_data, dtype=torch.float32), edge_index=static_edges)\n",
    "        sequence.append([pyg_data, curr_graph])\n",
    "\n",
    "    return sequence"
   ]
  },
  {
   "cell_type": "code",
   "execution_count": 143,
   "metadata": {},
   "outputs": [
    {
     "name": "stderr",
     "output_type": "stream",
     "text": [
      "  0%|          | 0/13435 [00:00<?, ?it/s]"
     ]
    },
    {
     "name": "stderr",
     "output_type": "stream",
     "text": [
      " 25%|██▌       | 3411/13435 [01:31<04:29, 37.17it/s]\n"
     ]
    },
    {
     "ename": "KeyboardInterrupt",
     "evalue": "",
     "output_type": "error",
     "traceback": [
      "\u001b[0;31m---------------------------------------------------------------------------\u001b[0m",
      "\u001b[0;31mKeyboardInterrupt\u001b[0m                         Traceback (most recent call last)",
      "Cell \u001b[0;32mIn[143], line 1\u001b[0m\n\u001b[0;32m----> 1\u001b[0m sequence \u001b[38;5;241m=\u001b[39m sequence_rstae(full_normalized, \u001b[38;5;241m5\u001b[39m)\n",
      "Cell \u001b[0;32mIn[142], line 27\u001b[0m, in \u001b[0;36msequence_rstae\u001b[0;34m(data, timesteps)\u001b[0m\n\u001b[1;32m     24\u001b[0m     data_t\u001b[38;5;241m.\u001b[39mappend(data[data[\u001b[38;5;124m'\u001b[39m\u001b[38;5;124munix_time\u001b[39m\u001b[38;5;124m'\u001b[39m]\u001b[38;5;241m==\u001b[39mi][[\u001b[38;5;124m'\u001b[39m\u001b[38;5;124mocc\u001b[39m\u001b[38;5;124m'\u001b[39m, \u001b[38;5;124m'\u001b[39m\u001b[38;5;124mspeed\u001b[39m\u001b[38;5;124m'\u001b[39m, \u001b[38;5;124m'\u001b[39m\u001b[38;5;124mvolume\u001b[39m\u001b[38;5;124m'\u001b[39m]]\u001b[38;5;241m.\u001b[39mto_numpy()) \u001b[38;5;66;03m# assumes time indices come sequentially, with full data it may not\u001b[39;00m\n\u001b[1;32m     26\u001b[0m node_data \u001b[38;5;241m=\u001b[39m np\u001b[38;5;241m.\u001b[39mconcatenate(data_t)\n\u001b[0;32m---> 27\u001b[0m pyg_data \u001b[38;5;241m=\u001b[39m Data(x\u001b[38;5;241m=\u001b[39mtorch\u001b[38;5;241m.\u001b[39mtensor(node_data, dtype\u001b[38;5;241m=\u001b[39mtorch\u001b[38;5;241m.\u001b[39mfloat32), edge_index\u001b[38;5;241m=\u001b[39mrelational_edges, edge_attr\u001b[38;5;241m=\u001b[39mtorch\u001b[38;5;241m.\u001b[39mtensor(relations, dtype\u001b[38;5;241m=\u001b[39mtorch\u001b[38;5;241m.\u001b[39mlong))\n\u001b[1;32m     29\u001b[0m curr_data \u001b[38;5;241m=\u001b[39m data_t[\u001b[38;5;241m-\u001b[39m\u001b[38;5;241m1\u001b[39m]\n\u001b[1;32m     30\u001b[0m curr_graph \u001b[38;5;241m=\u001b[39m Data(x\u001b[38;5;241m=\u001b[39mtorch\u001b[38;5;241m.\u001b[39mtensor(curr_data, dtype\u001b[38;5;241m=\u001b[39mtorch\u001b[38;5;241m.\u001b[39mfloat32), edge_index\u001b[38;5;241m=\u001b[39mstatic_edges)\n",
      "\u001b[0;31mKeyboardInterrupt\u001b[0m: "
     ]
    }
   ],
   "source": [
    "sequence = sequence_rstae(full_normalized, 5)"
   ]
  },
  {
   "cell_type": "code",
   "execution_count": 113,
   "metadata": {},
   "outputs": [
    {
     "data": {
      "text/plain": [
       "0"
      ]
     },
     "execution_count": 113,
     "metadata": {},
     "output_type": "execute_result"
    }
   ],
   "source": [
    "len(sequence)"
   ]
  },
  {
   "cell_type": "code",
   "execution_count": 6,
   "metadata": {},
   "outputs": [
    {
     "data": {
      "text/plain": [
       "[Data(x=[1960, 3], edge_index=[2, 38336], edge_attr=[38336]),\n",
       " Data(x=[196, 3], edge_index=[2, 1832])]"
      ]
     },
     "execution_count": 6,
     "metadata": {},
     "output_type": "execute_result"
    }
   ],
   "source": [
    "sequence[0]"
   ]
  },
  {
   "cell_type": "code",
   "execution_count": 4,
   "metadata": {},
   "outputs": [],
   "source": [
    "data_t = []\n",
    "for i in range(10):\n",
    "    data_t.append(day1_normalized[day1_normalized['time_index']==i])"
   ]
  },
  {
   "cell_type": "code",
   "execution_count": 5,
   "metadata": {},
   "outputs": [
    {
     "data": {
      "text/html": [
       "<div>\n",
       "<style scoped>\n",
       "    .dataframe tbody tr th:only-of-type {\n",
       "        vertical-align: middle;\n",
       "    }\n",
       "\n",
       "    .dataframe tbody tr th {\n",
       "        vertical-align: top;\n",
       "    }\n",
       "\n",
       "    .dataframe thead th {\n",
       "        text-align: right;\n",
       "    }\n",
       "</style>\n",
       "<table border=\"1\" class=\"dataframe\">\n",
       "  <thead>\n",
       "    <tr style=\"text-align: right;\">\n",
       "      <th></th>\n",
       "      <th>time_index</th>\n",
       "      <th>milemarker</th>\n",
       "      <th>speed</th>\n",
       "      <th>occ</th>\n",
       "      <th>volume</th>\n",
       "    </tr>\n",
       "  </thead>\n",
       "  <tbody>\n",
       "    <tr>\n",
       "      <th>9</th>\n",
       "      <td>9.0</td>\n",
       "      <td>53.3</td>\n",
       "      <td>1.024298</td>\n",
       "      <td>0.01</td>\n",
       "      <td>0.04</td>\n",
       "    </tr>\n",
       "    <tr>\n",
       "      <th>9</th>\n",
       "      <td>9.0</td>\n",
       "      <td>53.3</td>\n",
       "      <td>0.910628</td>\n",
       "      <td>0.00</td>\n",
       "      <td>0.00</td>\n",
       "    </tr>\n",
       "    <tr>\n",
       "      <th>9</th>\n",
       "      <td>9.0</td>\n",
       "      <td>53.3</td>\n",
       "      <td>0.892749</td>\n",
       "      <td>0.02</td>\n",
       "      <td>0.16</td>\n",
       "    </tr>\n",
       "    <tr>\n",
       "      <th>9</th>\n",
       "      <td>9.0</td>\n",
       "      <td>53.3</td>\n",
       "      <td>0.875764</td>\n",
       "      <td>0.01</td>\n",
       "      <td>0.04</td>\n",
       "    </tr>\n",
       "    <tr>\n",
       "      <th>2888</th>\n",
       "      <td>9.0</td>\n",
       "      <td>53.6</td>\n",
       "      <td>0.998993</td>\n",
       "      <td>0.01</td>\n",
       "      <td>0.08</td>\n",
       "    </tr>\n",
       "    <tr>\n",
       "      <th>...</th>\n",
       "      <td>...</td>\n",
       "      <td>...</td>\n",
       "      <td>...</td>\n",
       "      <td>...</td>\n",
       "      <td>...</td>\n",
       "    </tr>\n",
       "    <tr>\n",
       "      <th>135322</th>\n",
       "      <td>9.0</td>\n",
       "      <td>69.8</td>\n",
       "      <td>0.825243</td>\n",
       "      <td>0.00</td>\n",
       "      <td>0.00</td>\n",
       "    </tr>\n",
       "    <tr>\n",
       "      <th>138201</th>\n",
       "      <td>9.0</td>\n",
       "      <td>70.1</td>\n",
       "      <td>1.054311</td>\n",
       "      <td>0.00</td>\n",
       "      <td>0.00</td>\n",
       "    </tr>\n",
       "    <tr>\n",
       "      <th>138201</th>\n",
       "      <td>9.0</td>\n",
       "      <td>70.1</td>\n",
       "      <td>0.947011</td>\n",
       "      <td>0.01</td>\n",
       "      <td>0.04</td>\n",
       "    </tr>\n",
       "    <tr>\n",
       "      <th>138201</th>\n",
       "      <td>9.0</td>\n",
       "      <td>70.1</td>\n",
       "      <td>0.861294</td>\n",
       "      <td>0.01</td>\n",
       "      <td>0.00</td>\n",
       "    </tr>\n",
       "    <tr>\n",
       "      <th>138201</th>\n",
       "      <td>9.0</td>\n",
       "      <td>70.1</td>\n",
       "      <td>0.827015</td>\n",
       "      <td>0.00</td>\n",
       "      <td>0.00</td>\n",
       "    </tr>\n",
       "  </tbody>\n",
       "</table>\n",
       "<p>196 rows × 5 columns</p>\n",
       "</div>"
      ],
      "text/plain": [
       "        time_index  milemarker     speed   occ  volume\n",
       "9              9.0        53.3  1.024298  0.01    0.04\n",
       "9              9.0        53.3  0.910628  0.00    0.00\n",
       "9              9.0        53.3  0.892749  0.02    0.16\n",
       "9              9.0        53.3  0.875764  0.01    0.04\n",
       "2888           9.0        53.6  0.998993  0.01    0.08\n",
       "...            ...         ...       ...   ...     ...\n",
       "135322         9.0        69.8  0.825243  0.00    0.00\n",
       "138201         9.0        70.1  1.054311  0.00    0.00\n",
       "138201         9.0        70.1  0.947011  0.01    0.04\n",
       "138201         9.0        70.1  0.861294  0.01    0.00\n",
       "138201         9.0        70.1  0.827015  0.00    0.00\n",
       "\n",
       "[196 rows x 5 columns]"
      ]
     },
     "execution_count": 5,
     "metadata": {},
     "output_type": "execute_result"
    }
   ],
   "source": [
    "data_t[9]"
   ]
  },
  {
   "cell_type": "code",
   "execution_count": 13,
   "metadata": {},
   "outputs": [
    {
     "name": "stdout",
     "output_type": "stream",
     "text": [
      "38336\n"
     ]
    }
   ],
   "source": [
    "edge_connections, relations = generate_relational_edges(list(range(49)), 10)\n",
    "print(len(relations))"
   ]
  },
  {
   "cell_type": "code",
   "execution_count": 15,
   "metadata": {},
   "outputs": [
    {
     "data": {
      "text/plain": [
       "tensor(1959)"
      ]
     },
     "execution_count": 15,
     "metadata": {},
     "output_type": "execute_result"
    }
   ],
   "source": [
    "max(edge_connections[0])"
   ]
  },
  {
   "cell_type": "code",
   "execution_count": 16,
   "metadata": {},
   "outputs": [
    {
     "data": {
      "text/plain": [
       "(1960, 3)"
      ]
     },
     "execution_count": 16,
     "metadata": {},
     "output_type": "execute_result"
    }
   ],
   "source": [
    "combined = pd.concat(data_t)\n",
    "node_data = combined[['speed', 'occ', 'volume']].to_numpy()\n",
    "node_data.shape"
   ]
  },
  {
   "cell_type": "code",
   "execution_count": 17,
   "metadata": {},
   "outputs": [
    {
     "name": "stderr",
     "output_type": "stream",
     "text": [
      "/tmp/ipykernel_1831186/2390005869.py:2: UserWarning: To copy construct from a tensor, it is recommended to use sourceTensor.clone().detach() or sourceTensor.clone().detach().requires_grad_(True), rather than torch.tensor(sourceTensor).\n",
      "  data = Data(x=torch.tensor(node_data, dtype=torch.float32), edge_index=torch.tensor(edge_connections), edge_attr=torch.tensor(relations, dtype=torch.long))\n"
     ]
    }
   ],
   "source": [
    "# data = Data(x=node_data, edge_index=edge_connections, edge_attr=np.eye(6)[np.array(relations)])\n",
    "data = Data(x=torch.tensor(node_data, dtype=torch.float32), edge_index=torch.tensor(edge_connections), edge_attr=torch.tensor(relations, dtype=torch.long))\n"
   ]
  },
  {
   "cell_type": "code",
   "execution_count": 18,
   "metadata": {},
   "outputs": [
    {
     "data": {
      "text/plain": [
       "Data(x=[1960, 3], edge_index=[2, 38336], edge_attr=[38336])"
      ]
     },
     "execution_count": 18,
     "metadata": {},
     "output_type": "execute_result"
    }
   ],
   "source": [
    "data"
   ]
  },
  {
   "cell_type": "code",
   "execution_count": 19,
   "metadata": {},
   "outputs": [
    {
     "data": {
      "text/plain": [
       "tensor(1959)"
      ]
     },
     "execution_count": 19,
     "metadata": {},
     "output_type": "execute_result"
    }
   ],
   "source": [
    "max(edge_connections[0])"
   ]
  },
  {
   "cell_type": "code",
   "execution_count": 4,
   "metadata": {},
   "outputs": [],
   "source": [
    "import torch.nn as nn\n",
    "import torch.nn.functional as F\n",
    "from torch_geometric.nn import RGCNConv\n",
    "import torch_geometric as pyg\n",
    "\n",
    "class RelationalGraphEncoder(nn.Module):\n",
    "    def __init__(self, num_features, hidden_dim, latent_dim, dropout_percentage=0.1):\n",
    "        super().__init__()\n",
    "        self.conv1 = RGCNConv(num_features, hidden_dim, num_relations=6)\n",
    "        self.conv2 = RGCNConv(hidden_dim, hidden_dim, num_relations=6)\n",
    "        self.fc = nn.Linear(hidden_dim, latent_dim)\n",
    "\n",
    "        self.dropout_percentage = dropout_percentage\n",
    "    \n",
    "    def forward(self, data):\n",
    "        x, edge_index, edge_attr = data.x, data.edge_index, data.edge_attr\n",
    "        x = self.conv1(x, edge_index, edge_attr)\n",
    "        x = F.relu(x)\n",
    "        x = self.conv2(x, edge_index, edge_attr)\n",
    "        x = F.relu(x)\n",
    "\n",
    "        x = F.dropout(x, p=self.dropout_percentage, training=self.training)\n",
    "        x = pyg.nn.global_mean_pool(x, data.batch)\n",
    "        z = self.fc(x)\n",
    "        return z"
   ]
  },
  {
   "cell_type": "code",
   "execution_count": 24,
   "metadata": {},
   "outputs": [],
   "source": [
    "from datautils import generate_edges\n",
    "reconstructed_index = generate_edges(list(range(49)))"
   ]
  },
  {
   "cell_type": "code",
   "execution_count": 26,
   "metadata": {},
   "outputs": [
    {
     "name": "stdout",
     "output_type": "stream",
     "text": [
      "torch.Size([1960, 3])\n",
      "<class 'torch.Tensor'>\n",
      "torch.Size([38336])\n"
     ]
    }
   ],
   "source": [
    "enc = RelationalGraphEncoder(3, 64, 128, 0)\n",
    "z = enc(data)"
   ]
  },
  {
   "cell_type": "code",
   "execution_count": 9,
   "metadata": {},
   "outputs": [
    {
     "ename": "NameError",
     "evalue": "name 'z' is not defined",
     "output_type": "error",
     "traceback": [
      "\u001b[0;31m---------------------------------------------------------------------------\u001b[0m",
      "\u001b[0;31mNameError\u001b[0m                                 Traceback (most recent call last)",
      "Cell \u001b[0;32mIn[9], line 4\u001b[0m\n\u001b[1;32m      1\u001b[0m \u001b[38;5;28;01mfrom\u001b[39;00m \u001b[38;5;21;01mmodels\u001b[39;00m \u001b[38;5;28;01mimport\u001b[39;00m GraphDecoder\n\u001b[1;32m      3\u001b[0m dec \u001b[38;5;241m=\u001b[39m GraphDecoder(num_features\u001b[38;5;241m=\u001b[39m\u001b[38;5;241m3\u001b[39m, hidden_dim\u001b[38;5;241m=\u001b[39m\u001b[38;5;241m64\u001b[39m, latent_dim\u001b[38;5;241m=\u001b[39m\u001b[38;5;241m128\u001b[39m)\n\u001b[0;32m----> 4\u001b[0m dec(z, reconstructed_index)\n",
      "\u001b[0;31mNameError\u001b[0m: name 'z' is not defined"
     ]
    }
   ],
   "source": [
    "from models import GraphDecoder\n",
    "\n",
    "dec = GraphDecoder(num_features=3, hidden_dim=64, latent_dim=128)\n",
    "dec(z, reconstructed_index)"
   ]
  },
  {
   "cell_type": "code",
   "execution_count": 6,
   "metadata": {},
   "outputs": [
    {
     "data": {
      "text/plain": [
       "torch.Size([196, 3])"
      ]
     },
     "execution_count": 6,
     "metadata": {},
     "output_type": "execute_result"
    }
   ],
   "source": [
    "rstae = RelationalSTAE(num_features=3, hidden_dim=64, latent_dim=128)\n",
    "rstae(sequence[0])"
   ]
  }
 ],
 "metadata": {
  "kernelspec": {
   "display_name": "traffic-anomaly",
   "language": "python",
   "name": "python3"
  },
  "language_info": {
   "codemirror_mode": {
    "name": "ipython",
    "version": 3
   },
   "file_extension": ".py",
   "mimetype": "text/x-python",
   "name": "python",
   "nbconvert_exporter": "python",
   "pygments_lexer": "ipython3",
   "version": "3.11.3"
  }
 },
 "nbformat": 4,
 "nbformat_minor": 2
}
