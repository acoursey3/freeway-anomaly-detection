{
 "cells": [
  {
   "cell_type": "code",
   "execution_count": 1,
   "id": "4f2a5be3",
   "metadata": {},
   "outputs": [],
   "source": [
    "import pandas as pd\n",
    "import ast\n",
    "import warnings\n",
    "warnings.simplefilter(action='ignore', category=pd.errors.SettingWithCopyWarning)\n",
    "import numpy as np\n",
    "import matplotlib.pyplot as plt\n",
    "import seaborn as sns\n",
    "from matplotlib.colors import LinearSegmentedColormap\n",
    "import matplotlib.style as mplstyle\n",
    "from tqdm import tqdm\n",
    "jet = plt.cm.jet\n",
    "import datetime\n",
    "# Invert the colormap\n",
    "colors = [jet(x) for x in np.linspace(1, 0.5, 256)]\n",
    "green_to_red = LinearSegmentedColormap.from_list('GreenToRed', colors, N=256)\n",
    "colors = [jet(x) for x in np.linspace(0.5, 1, 256)]\n",
    "red_to_green = LinearSegmentedColormap.from_list('GreenToRed', colors, N=256)\n",
    "data = pd.read_csv('today.csv')"
   ]
  },
  {
   "cell_type": "code",
   "execution_count": null,
   "id": "4f8ff294",
   "metadata": {},
   "outputs": [],
   "source": []
  }
 ],
 "metadata": {
  "kernelspec": {
   "display_name": "Python 3 (ipykernel)",
   "language": "python",
   "name": "python3"
  },
  "language_info": {
   "codemirror_mode": {
    "name": "ipython",
    "version": 3
   },
   "file_extension": ".py",
   "mimetype": "text/x-python",
   "name": "python",
   "nbconvert_exporter": "python",
   "pygments_lexer": "ipython3",
   "version": "3.11.5"
  }
 },
 "nbformat": 4,
 "nbformat_minor": 5
}
