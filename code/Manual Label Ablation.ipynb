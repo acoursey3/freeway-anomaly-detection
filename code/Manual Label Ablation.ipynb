{
 "cells": [
  {
   "cell_type": "markdown",
   "metadata": {},
   "source": [
    "# Training GCN AE on Full Data"
   ]
  },
  {
   "cell_type": "code",
   "execution_count": 103,
   "metadata": {},
   "outputs": [],
   "source": [
    "import torch\n",
    "from torch_geometric.data import Data\n",
    "import numpy as np\n",
    "import matplotlib.pyplot as plt\n",
    "import pandas as pd\n",
    "import optuna\n",
    "\n",
    "from models import GraphAE\n",
    "from parameters import GraphAEParameters, TrainingParameters\n",
    "from datautils import get_morning_data, get_gcnae_sequence, normalize_data, generate_edges, generate_relational_edges, load_best_parameters, get_full_data, label_anomalies\n",
    "from training import save_model, load_model, train_gcnae, compute_anomaly_threshold_gcnae, test_model, threshold_anomalies, fill_result_df, test_gcnae\n",
    "from metrics import calculate_accuracy, crash_detection_delay, calculate_tp_fp, find_thresholds, find_delays, find_percent, discrete_fp_delays, generate_anomaly_labels, calculate_auc\n",
    "import torch.nn as nn\n",
    "from tqdm import tqdm\n",
    "\n",
    "import random\n",
    "import os"
   ]
  },
  {
   "cell_type": "markdown",
   "metadata": {},
   "source": [
    "### Time Series Sequencing"
   ]
  },
  {
   "cell_type": "code",
   "execution_count": 104,
   "metadata": {},
   "outputs": [],
   "source": [
    "def sequence_gcnae(data, timesteps, hide_anomalies=True):\n",
    "    sequence = []\n",
    "    static_edges = generate_edges(milemarkers=list(range(49)))\n",
    "    unique_times = np.unique(data['unix_time'])\n",
    "    kept_indices = []\n",
    "\n",
    "    for index, t in enumerate(tqdm(unique_times)):\n",
    "        data_t = []\n",
    "        contains_anomaly = np.any([np.unique(data[data['unix_time']==t]['anomaly'])[0]])\n",
    "\n",
    "        if (hide_anomalies and contains_anomaly):\n",
    "            continue\n",
    "        \n",
    "        kept_indices.append(index)\n",
    "\n",
    "        data_t.append(data[data['unix_time']==t][['occ', 'speed', 'volume']].to_numpy()) # assumes time indices come sequentially, with full data it may not\n",
    "        \n",
    "        curr_data = data_t[-1]\n",
    "        curr_graph = Data(x=torch.tensor(curr_data, dtype=torch.float32), edge_index=static_edges)\n",
    "        sequence.append(curr_graph)\n",
    "\n",
    "    return sequence, kept_indices"
   ]
  },
  {
   "cell_type": "markdown",
   "metadata": {},
   "source": [
    "### Loading Hyperparameters"
   ]
  },
  {
   "cell_type": "code",
   "execution_count": 105,
   "metadata": {},
   "outputs": [],
   "source": [
    "optimal_hyperparams = load_best_parameters('gcn_v2')"
   ]
  },
  {
   "cell_type": "code",
   "execution_count": 106,
   "metadata": {},
   "outputs": [
    {
     "data": {
      "text/plain": [
       "{'dropout': 0.03472588957921531,\n",
       " 'epochs': 10,\n",
       " 'gcn_hidden_dim': 64,\n",
       " 'latent_dim': 128,\n",
       " 'learning_rate': 0.0004708326073117493,\n",
       " 'num_gcn': 1,\n",
       " 'timesteps': 2}"
      ]
     },
     "execution_count": 106,
     "metadata": {},
     "output_type": "execute_result"
    }
   ],
   "source": [
    "optimal_hyperparams"
   ]
  },
  {
   "cell_type": "code",
   "execution_count": 107,
   "metadata": {},
   "outputs": [],
   "source": [
    "mse_weights = [1,1,1] # weights for loss function (occupancy, speed, volume)"
   ]
  },
  {
   "cell_type": "code",
   "execution_count": 108,
   "metadata": {},
   "outputs": [],
   "source": [
    "training_params = TrainingParameters(\n",
    "    learning_rate=optimal_hyperparams['learning_rate'],\n",
    "    batch_size=1,\n",
    "    timesteps=0,\n",
    "    n_epochs=1\n",
    ")"
   ]
  },
  {
   "cell_type": "code",
   "execution_count": 109,
   "metadata": {},
   "outputs": [
    {
     "name": "stderr",
     "output_type": "stream",
     "text": [
      "100%|██████████| 13440/13440 [00:33<00:00, 404.01it/s]\n"
     ]
    }
   ],
   "source": [
    "train_data, test_data, _ = get_full_data()\n",
    "train_data = normalize_data(train_data)\n",
    "train_data = label_anomalies(train_data, include_manual=False)\n",
    "train_sequence, kept_train_indices = sequence_gcnae(train_data, training_params.timesteps)"
   ]
  },
  {
   "cell_type": "code",
   "execution_count": 110,
   "metadata": {},
   "outputs": [],
   "source": [
    "hyperparams = GraphAEParameters(\n",
    "    num_features=3,\n",
    "    latent_dim=optimal_hyperparams['latent_dim'],\n",
    "    gcn_hidden_dim=optimal_hyperparams['gcn_hidden_dim'],\n",
    "    dropout=optimal_hyperparams['dropout'],\n",
    "    num_gcn=optimal_hyperparams['num_gcn']\n",
    ")"
   ]
  },
  {
   "cell_type": "code",
   "execution_count": 111,
   "metadata": {},
   "outputs": [],
   "source": [
    "ae = GraphAE(hyperparams)"
   ]
  },
  {
   "cell_type": "code",
   "execution_count": 112,
   "metadata": {},
   "outputs": [
    {
     "data": {
      "text/plain": [
       "torch.Size([196, 3])"
      ]
     },
     "execution_count": 112,
     "metadata": {},
     "output_type": "execute_result"
    }
   ],
   "source": [
    "ae(train_sequence[0]).shape"
   ]
  },
  {
   "cell_type": "markdown",
   "metadata": {},
   "source": [
    "### Model Training or Loading"
   ]
  },
  {
   "cell_type": "code",
   "execution_count": 113,
   "metadata": {},
   "outputs": [],
   "source": [
    "using_pretrained = False"
   ]
  },
  {
   "cell_type": "code",
   "execution_count": 114,
   "metadata": {},
   "outputs": [
    {
     "name": "stderr",
     "output_type": "stream",
     "text": [
      "  0%|          | 0/1 [00:00<?, ?it/s]"
     ]
    },
    {
     "name": "stderr",
     "output_type": "stream",
     "text": [
      "100%|██████████| 1/1 [01:20<00:00, 80.09s/it]"
     ]
    },
    {
     "name": "stdout",
     "output_type": "stream",
     "text": [
      "Epoch number 0 last 100 loss 0.009509298126213253\n"
     ]
    },
    {
     "name": "stderr",
     "output_type": "stream",
     "text": [
      "\n"
     ]
    }
   ],
   "source": [
    "if not using_pretrained:\n",
    "    ae, losses = train_gcnae(gcnaeparams=hyperparams, trainingparams=training_params, training_data=train_sequence, mse_weights=mse_weights, verbose=True)\n",
    "    save_model(ae, 'nomanual_gcn')\n",
    "else:\n",
    "    ae = load_model(GraphAE, hyperparams, 'nomanual_gcn')"
   ]
  },
  {
   "cell_type": "code",
   "execution_count": 115,
   "metadata": {},
   "outputs": [
    {
     "data": {
      "image/png": "[encoded data removed]",
      "text/plain": [
       "<Figure size 640x480 with 1 Axes>"
      ]
     },
     "metadata": {},
     "output_type": "display_data"
    }
   ],
   "source": [
    "if not using_pretrained:\n",
    "    plt.plot(losses)"
   ]
  },
  {
   "cell_type": "code",
   "execution_count": 116,
   "metadata": {},
   "outputs": [
    {
     "name": "stderr",
     "output_type": "stream",
     "text": [
      "100%|██████████| 13440/13440 [00:30<00:00, 441.20it/s]\n",
      "100%|██████████| 1/1 [01:07<00:00, 67.89s/it]"
     ]
    },
    {
     "name": "stdout",
     "output_type": "stream",
     "text": [
      "Epoch number 0 last 100 loss 0.007421114984899759\n"
     ]
    },
    {
     "name": "stderr",
     "output_type": "stream",
     "text": [
      "\n"
     ]
    }
   ],
   "source": [
    "labeled_train_data, _, _ = get_full_data()\n",
    "labeled_train_data = normalize_data(labeled_train_data)\n",
    "labeled_train_data = label_anomalies(labeled_train_data, include_manual=True)\n",
    "labeled_train_sequence, kept_train_indices = sequence_gcnae(labeled_train_data, training_params.timesteps)\n",
    "_, labeled_losses = train_gcnae(gcnaeparams=hyperparams, trainingparams=training_params, training_data=labeled_train_sequence, mse_weights=mse_weights, verbose=True)"
   ]
  },
  {
   "cell_type": "code",
   "execution_count": 117,
   "metadata": {},
   "outputs": [
    {
     "ename": "TypeError",
     "evalue": "xlabel() missing 1 required positional argument: 'xlabel'",
     "output_type": "error",
     "traceback": [
      "\u001b[0;31m---------------------------------------------------------------------------\u001b[0m",
      "\u001b[0;31mTypeError\u001b[0m                                 Traceback (most recent call last)",
      "Cell \u001b[0;32mIn[117], line 5\u001b[0m\n\u001b[1;32m      3\u001b[0m plt\u001b[38;5;241m.\u001b[39mlegend()\n\u001b[1;32m      4\u001b[0m plt\u001b[38;5;241m.\u001b[39mtitle(\u001b[38;5;124m\"\u001b[39m\u001b[38;5;124mImpact of Manually Cleaning Anomalies on Training Curves\u001b[39m\u001b[38;5;124m\"\u001b[39m)\n\u001b[0;32m----> 5\u001b[0m plt\u001b[38;5;241m.\u001b[39mxlabel()\n",
      "\u001b[0;31mTypeError\u001b[0m: xlabel() missing 1 required positional argument: 'xlabel'"
     ]
    },
    {
     "data": {
      "image/png": "[encoded data removed]",
      "text/plain": [
       "<Figure size 640x480 with 1 Axes>"
      ]
     },
     "metadata": {},
     "output_type": "display_data"
    }
   ],
   "source": [
    "plt.plot(losses, alpha=0.5, label='Training Loss with Anomalies')\n",
    "plt.plot(labeled_losses, alpha=0.5, label='Training Loss without Anomalies')\n",
    "plt.legend()\n",
    "plt.title(\"Impact of Manually Cleaning Anomalies on Training Curves\")\n",
    "plt.xlabel()"
   ]
  },
  {
   "cell_type": "markdown",
   "metadata": {},
   "source": [
    "### Computing Node-level Anomaly Threshold"
   ]
  },
  {
   "cell_type": "code",
   "execution_count": null,
   "metadata": {},
   "outputs": [
    {
     "name": "stderr",
     "output_type": "stream",
     "text": [
      "100%|██████████| 7937/7937 [00:22<00:00, 359.23it/s]\n"
     ]
    }
   ],
   "source": [
    "thresh = compute_anomaly_threshold_gcnae(train_sequence, ae, mse_weights, 'max')"
   ]
  },
  {
   "cell_type": "markdown",
   "metadata": {},
   "source": [
    "### Loading Test Data"
   ]
  },
  {
   "cell_type": "code",
   "execution_count": null,
   "metadata": {},
   "outputs": [],
   "source": [
    "_, df_test_data, _ = get_full_data()"
   ]
  },
  {
   "cell_type": "code",
   "execution_count": null,
   "metadata": {},
   "outputs": [
    {
     "name": "stderr",
     "output_type": "stream",
     "text": [
      "100%|██████████| 4800/4800 [00:04<00:00, 982.41it/s] \n"
     ]
    }
   ],
   "source": [
    "test_data = normalize_data(df_test_data)\n",
    "test_data = label_anomalies(test_data)\n",
    "test_data, kept_test_indices = sequence_gcnae(test_data, training_params.timesteps, hide_anomalies=False)"
   ]
  },
  {
   "cell_type": "code",
   "execution_count": null,
   "metadata": {},
   "outputs": [],
   "source": [
    "test_errors, test_recons_speeds, test_true_speeds = test_gcnae(test_data, mse_weights, ae)"
   ]
  },
  {
   "cell_type": "code",
   "execution_count": null,
   "metadata": {},
   "outputs": [
    {
     "data": {
      "text/plain": [
       "0.012432308"
      ]
     },
     "execution_count": 47,
     "metadata": {},
     "output_type": "execute_result"
    }
   ],
   "source": [
    "np.mean(test_errors)"
   ]
  },
  {
   "cell_type": "code",
   "execution_count": null,
   "metadata": {},
   "outputs": [],
   "source": [
    "# Compute true anomaly labels\n",
    "anomaly_labels = generate_anomaly_labels(df_test_data, kept_test_indices)\n",
    "\n",
    "# Whether a crash was reported at each time\n",
    "crash_reported = df_test_data['crash_record'].to_numpy()[0::196][kept_test_indices]"
   ]
  },
  {
   "cell_type": "markdown",
   "metadata": {},
   "source": [
    "### Compute FPR / Crash Detection Delay Tradeoff"
   ]
  },
  {
   "cell_type": "code",
   "execution_count": null,
   "metadata": {},
   "outputs": [
    {
     "name": "stderr",
     "output_type": "stream",
     "text": [
      "100%|██████████| 1000/1000 [01:07<00:00, 14.76it/s]\n",
      "100%|██████████| 98/98 [00:00<00:00, 103.36it/s]\n"
     ]
    }
   ],
   "source": [
    "delay_results = np.array(find_delays(thresh, test_errors, anomaly_labels, crash_reported))"
   ]
  },
  {
   "cell_type": "code",
   "execution_count": null,
   "metadata": {},
   "outputs": [],
   "source": [
    "delay_df = pd.DataFrame(delay_results, columns=['FPR', 'Mean Delay', 'Std Delay', 'Found Percent'])\n",
    "delay_df.to_csv('./saved_results/nomanual_gcnae_fp_delay.csv')"
   ]
  },
  {
   "cell_type": "code",
   "execution_count": null,
   "metadata": {},
   "outputs": [
    {
     "data": {
      "image/png": "[encoded data removed]",
      "text/plain": [
       "<Figure size 640x480 with 1 Axes>"
      ]
     },
     "metadata": {},
     "output_type": "display_data"
    }
   ],
   "source": [
    "x_values = delay_df['FPR']\n",
    "y_values = delay_df['Mean Delay'] / 2\n",
    "std_values = delay_df['Std Delay'] / 2\n",
    "\n",
    "plt.plot(x_values, y_values, color='blue', label='GCNAE', marker='x')\n",
    "\n",
    "lower_bound = y_values - std_values  # 1.96 is the z-score for 95% confidence interval\n",
    "upper_bound = y_values + std_values\n",
    "\n",
    "plt.fill_between(x_values, lower_bound, upper_bound, color='blue', alpha=0.2)\n",
    "plt.ylim(-16, 16)\n",
    "# plt.xlim(-0.01,1)\n",
    "plt.xlabel(\"False Positive Rate (%)\")\n",
    "plt.ylabel(\"Detection Delay (min)\")\n",
    "plt.title(\"Crash Detection and False Positive Tradeoff\")\n",
    "plt.legend()\n",
    "plt.show()"
   ]
  },
  {
   "cell_type": "code",
   "execution_count": null,
   "metadata": {},
   "outputs": [
    {
     "name": "stderr",
     "output_type": "stream",
     "text": [
      "100%|██████████| 1000/1000 [01:07<00:00, 14.83it/s]"
     ]
    },
    {
     "name": "stdout",
     "output_type": "stream",
     "text": [
      "FPR 1% gives mean delay of -4.333333333333333 +/- 9.38971068066885 while missing 0.25%.\n",
      "FPR 2.5% gives mean delay of -7.888888888888889 +/- 9.137157890776958 while missing 0.25%.\n",
      "FPR 5% gives mean delay of -10.277777777777779 +/- 6.5111490328816055 while missing 0.25%.\n",
      "FPR 10% gives mean delay of -9.863636363636363 +/- 6.060643939275569 while missing 0.08333333333333337%.\n",
      "FPR 20% gives mean delay of -13.291666666666666 +/- 2.561398814883947 while missing 0.0%.\n"
     ]
    },
    {
     "name": "stderr",
     "output_type": "stream",
     "text": [
      "\n"
     ]
    }
   ],
   "source": [
    "discrete_fp_delays(thresh, test_errors, anomaly_labels, crash_reported)"
   ]
  },
  {
   "cell_type": "markdown",
   "metadata": {},
   "source": [
    "### Compute AUC"
   ]
  },
  {
   "cell_type": "code",
   "execution_count": null,
   "metadata": {},
   "outputs": [
    {
     "data": {
      "text/plain": [
       "0.6973676582530536"
      ]
     },
     "execution_count": 53,
     "metadata": {},
     "output_type": "execute_result"
    }
   ],
   "source": [
    "calculate_auc(test_errors, anomaly_labels)"
   ]
  },
  {
   "cell_type": "markdown",
   "metadata": {},
   "source": [
    "### Copmute Detection Delay Histogram on Full Dataset"
   ]
  },
  {
   "cell_type": "code",
   "execution_count": null,
   "metadata": {},
   "outputs": [],
   "source": [
    "_, _, full_data = get_full_data()\n",
    "full_data = normalize_data(full_data)\n",
    "full_data = label_anomalies(full_data)"
   ]
  },
  {
   "cell_type": "code",
   "execution_count": null,
   "metadata": {},
   "outputs": [
    {
     "name": "stderr",
     "output_type": "stream",
     "text": [
      "  0%|          | 0/18240 [00:00<?, ?it/s]"
     ]
    },
    {
     "name": "stderr",
     "output_type": "stream",
     "text": [
      "100%|██████████| 18240/18240 [01:15<00:00, 241.79it/s]\n"
     ]
    }
   ],
   "source": [
    "full_sequence, kept_full_indices = sequence_gcnae(full_data, training_params.timesteps, hide_anomalies=False)"
   ]
  },
  {
   "cell_type": "code",
   "execution_count": null,
   "metadata": {},
   "outputs": [],
   "source": [
    "full_errors, _, _ = test_gcnae(full_sequence, mse_weights, ae)"
   ]
  },
  {
   "cell_type": "code",
   "execution_count": null,
   "metadata": {},
   "outputs": [],
   "source": [
    "full_anomalies = generate_anomaly_labels(full_data, kept_full_indices)\n",
    "crash_reported = full_data['crash_record'].to_numpy()[0::196][kept_full_indices]"
   ]
  },
  {
   "cell_type": "code",
   "execution_count": null,
   "metadata": {},
   "outputs": [
    {
     "name": "stderr",
     "output_type": "stream",
     "text": [
      "100%|██████████| 1000/1000 [04:21<00:00,  3.82it/s]\n"
     ]
    }
   ],
   "source": [
    "full_thresholds = find_thresholds(thresh, full_errors, full_anomalies)"
   ]
  },
  {
   "cell_type": "code",
   "execution_count": null,
   "metadata": {},
   "outputs": [],
   "source": [
    "offset = find_percent(full_thresholds, 10)\n",
    "full_anomaly_pred = threshold_anomalies(thresh+offset, full_errors)\n"
   ]
  },
  {
   "cell_type": "code",
   "execution_count": null,
   "metadata": {},
   "outputs": [],
   "source": [
    "delay, found = crash_detection_delay(full_anomaly_pred, crash_reported)"
   ]
  },
  {
   "cell_type": "code",
   "execution_count": null,
   "metadata": {},
   "outputs": [
    {
     "data": {
      "text/plain": [
       "<matplotlib.legend.Legend at 0x7f889abaa1d0>"
      ]
     },
     "execution_count": 61,
     "metadata": {},
     "output_type": "execute_result"
    },
    {
     "data": {
      "image/png": "[encoded data removed]",
      "text/plain": [
       "<Figure size 640x480 with 1 Axes>"
      ]
     },
     "metadata": {},
     "output_type": "display_data"
    }
   ],
   "source": [
    "import seaborn as sns \n",
    "\n",
    "delay = delay + [30] * (len(found) - np.count_nonzero(found))\n",
    "\n",
    "sns.histplot(np.array(delay)/2, binwidth=1, alpha=0.5, label='gcnae')\n",
    "plt.legend()"
   ]
  },
  {
   "cell_type": "code",
   "execution_count": null,
   "metadata": {},
   "outputs": [],
   "source": [
    "np.save('./saved_results/nomanual_gcnae10delays.npy', np.array(delay)/2)"
   ]
  },
  {
   "cell_type": "code",
   "execution_count": null,
   "metadata": {},
   "outputs": [],
   "source": [
    "_, df_clean_test_data, _ = get_full_data()"
   ]
  },
  {
   "cell_type": "code",
   "execution_count": null,
   "metadata": {},
   "outputs": [
    {
     "name": "stderr",
     "output_type": "stream",
     "text": [
      "100%|██████████| 4800/4800 [00:02<00:00, 1642.96it/s]\n"
     ]
    }
   ],
   "source": [
    "clean_test_data = normalize_data(df_clean_test_data)\n",
    "clean_test_data = label_anomalies(clean_test_data)\n",
    "clean_test_data, kept_test_indices = sequence_gcnae(clean_test_data, training_params.timesteps, hide_anomalies=True)"
   ]
  },
  {
   "cell_type": "code",
   "execution_count": null,
   "metadata": {},
   "outputs": [],
   "source": [
    "clean_test_errors, test_recons_speeds, test_true_speeds = test_gcnae(clean_test_data, mse_weights, ae)"
   ]
  },
  {
   "cell_type": "code",
   "execution_count": null,
   "metadata": {},
   "outputs": [
    {
     "data": {
      "text/plain": [
       "0.008641981"
      ]
     },
     "execution_count": 66,
     "metadata": {},
     "output_type": "execute_result"
    }
   ],
   "source": [
    "np.mean(clean_test_errors)"
   ]
  },
  {
   "cell_type": "code",
   "execution_count": null,
   "metadata": {},
   "outputs": [],
   "source": [
    "# data = fill_result_df(anomalies_10, test_true_speeds, test_recons_speeds, training_params.timesteps)"
   ]
  },
  {
   "cell_type": "code",
   "execution_count": null,
   "metadata": {},
   "outputs": [],
   "source": [
    "# data.to_csv('./saved_results/full_results_test_rstae.csv')"
   ]
  },
  {
   "cell_type": "code",
   "execution_count": null,
   "metadata": {},
   "outputs": [],
   "source": [
    "# import pandas as pd\n",
    "# import matplotlib.pyplot as plt\n",
    "# import matplotlib.dates as mdates\n",
    "\n",
    "# data = pd.read_csv('./saved_results/full_results_test_rstae.csv', index_col=0)\n",
    "# data['Time Index'] = pd.to_datetime(data['Time Index'] * 30, unit='s')\n",
    "# plt.figure(figsize=(16,4), facecolor='white')\n",
    "# plt.rc('font', family='serif', size=15)\n",
    "# lane = data[data.Lane == 1]\n",
    "# # plt.scatter(lane['Time Index'].values , lane.Milemarker.values, \n",
    "# #                             c=lane['Reconstructed Speed'].values,marker='s',s=1, cmap='RdYlGn')\n",
    "# plt.scatter(lane['Time Index'].values , lane.Milemarker.values, \n",
    "#                             c=np.abs(lane['Reconstructed Speed'].values-lane['Speed']),marker='s',s=1, cmap='viridis')\n",
    "# plt.gca().invert_yaxis()\n",
    "# plt.gca().xaxis.set_major_formatter(mdates.DateFormatter('%H:%M'))\n",
    "# plt.title(\"Reconstructed Speeds Lane 1 Thursday, Oct 26, Morning\")\n",
    "# plt.xlabel(\"Time of Day\")\n",
    "# plt.ylabel(\"Milemarker\")\n",
    "# plt.show()"
   ]
  },
  {
   "cell_type": "code",
   "execution_count": null,
   "metadata": {},
   "outputs": [],
   "source": [
    "# from matplotlib.ticker import MultipleLocator\n",
    "\n",
    "# plt.figure(figsize=(16,4), facecolor='white')\n",
    "# plt.rc('font', family='serif', size=15)\n",
    "# lane = data[data.Lane == 1]\n",
    "# plt.scatter(lane['Time Index'].values , lane.Milemarker.values, \n",
    "#                             c=lane['Speed'].values,marker='s',s=1, cmap='RdYlGn')\n",
    "# plt.gca().invert_yaxis()\n",
    "# # plt.gca().xaxis.set_major_locator(MultipleLocator(0.01))\n",
    "# plt.gca().xaxis.set_major_formatter(mdates.DateFormatter('%H:%M'))\n",
    "\n",
    "# # Set x-axis limits\n",
    "# start_time = pd.to_datetime('1970-01-01 09:30:00')\n",
    "# end_time = pd.to_datetime('1970-01-01 09:50:00')\n",
    "# # plt.xlim(start_time, end_time)\n",
    "# # plt.ylim()\n",
    "\n",
    "# plt.title(\"True Speeds Lane 1 Thursday, Oct 26, Morning\")\n",
    "# plt.xlabel(\"Time of Day\")\n",
    "# plt.ylabel(\"Milemarker\")\n",
    "# plt.show()"
   ]
  },
  {
   "cell_type": "code",
   "execution_count": null,
   "metadata": {},
   "outputs": [],
   "source": [
    "# plt.figure(figsize=(16,4), facecolor='white')\n",
    "# plt.rc('font', family='serif', size=15)\n",
    "# lane = data[data.Lane == 1]\n",
    "# plt.scatter(lane['Time Index'].values , lane.Milemarker.values, \n",
    "#                             c=lane['Anomaly'].values,marker='s',s=1, cmap='viridis', label='Nominal')\n",
    "# plt.gca().invert_yaxis()\n",
    "# # plt.gca().xaxis.set_major_locator(MultipleLocator(0.5))\n",
    "# plt.gca().xaxis.set_major_formatter(mdates.DateFormatter('%H:%M'))\n",
    "# # Set x-axis limits\n",
    "# start_time = pd.to_datetime('1970-01-01 08:00:00')\n",
    "# end_time = pd.to_datetime('1970-01-01 11:00:00')\n",
    "# # plt.xlim(start_time, end_time)\n",
    "\n",
    "# # Add vertical line at '1970-01-01 09:39:22'\n",
    "# vline_time = pd.to_datetime('1970-01-01 09:39:22')\n",
    "# plt.axvline(x=vline_time, color='red', linestyle='--', linewidth=2, label='Crash Reported', alpha=0.25)\n",
    "# plt.axhline(y=62.2, color='red', linestyle='--', alpha=0.25)\n",
    "# # plt.ylim(60,65)\n",
    "# plt.legend(loc='upper right')\n",
    "# plt.title(\"Anomaly Detection Lane 1 Thursday Oct 26, Morning\")\n",
    "# plt.xlabel(\"Time of Day\")\n",
    "# plt.ylabel(\"Milemarker\")\n",
    "# plt.show()"
   ]
  }
 ],
 "metadata": {
  "kernelspec": {
   "display_name": "transimputer-prognostics",
   "language": "python",
   "name": "python3"
  },
  "language_info": {
   "codemirror_mode": {
    "name": "ipython",
    "version": 3
   },
   "file_extension": ".py",
   "mimetype": "text/x-python",
   "name": "python",
   "nbconvert_exporter": "python",
   "pygments_lexer": "ipython3",
   "version": "3.11.3"
  }
 },
 "nbformat": 4,
 "nbformat_minor": 2
}
