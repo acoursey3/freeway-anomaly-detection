{
 "cells": [
  {
   "cell_type": "markdown",
   "metadata": {},
   "source": [
    "# California Algorithm Anomaly Detection"
   ]
  },
  {
   "cell_type": "code",
   "execution_count": 1,
   "metadata": {},
   "outputs": [
    {
     "name": "stderr",
     "output_type": "stream",
     "text": [
      "/home/austinc/.conda/envs/traffic-anomaly/lib/python3.11/site-packages/tqdm/auto.py:21: TqdmWarning: IProgress not found. Please update jupyter and ipywidgets. See https://ipywidgets.readthedocs.io/en/stable/user_install.html\n",
      "  from .autonotebook import tqdm as notebook_tqdm\n"
     ]
    }
   ],
   "source": [
    "import torch\n",
    "from torch_geometric.data import Data\n",
    "import numpy as np\n",
    "import matplotlib.pyplot as plt\n",
    "import pandas as pd\n",
    "\n",
    "from datautils import get_morning_data, get_gcnae_sequence, normalize_data, generate_edges, generate_relational_edges, load_best_parameters, get_full_data, label_anomalies\n",
    "from training import save_model, load_model, train_gcnae, compute_anomaly_threshold_gcnae, test_model, threshold_anomalies, fill_result_df, test_gcnae\n",
    "from metrics import calculate_accuracy, crash_detection_delay, calculate_tp_fp, find_thresholds, find_delays, find_percent, discrete_fp_delays, generate_anomaly_labels, calculate_auc\n",
    "import torch.nn as nn\n",
    "from tqdm import tqdm\n",
    "\n",
    "import random\n",
    "import os"
   ]
  },
  {
   "cell_type": "code",
   "execution_count": 28,
   "metadata": {},
   "outputs": [],
   "source": [
    "def california(state, uocc, docc):\n",
    "    T1 = 8.1\n",
    "    T2 = 0.313\n",
    "    T3 = 16.8\n",
    "\n",
    "    occdf = uocc - docc\n",
    "    occrdf = occdf / (uocc + 1e-6)\n",
    "    \n",
    "    if state >= 1:\n",
    "        if state >= 2:\n",
    "            if occrdf >= T2:\n",
    "                return 3\n",
    "            return 0\n",
    "        if occrdf >= T2:\n",
    "            return 2\n",
    "        return 0\n",
    "    \n",
    "    if occdf >= T1:\n",
    "        if occrdf >= T2:\n",
    "            if docc >= T3:\n",
    "                return 0\n",
    "            return 1\n",
    "        return 0\n",
    "    return 0"
   ]
  },
  {
   "cell_type": "code",
   "execution_count": 45,
   "metadata": {},
   "outputs": [
    {
     "name": "stderr",
     "output_type": "stream",
     "text": [
      "/home/austinc/projects/freeway-anomaly-detection/code/datautils.py:209: SettingWithCopyWarning: \n",
      "A value is trying to be set on a copy of a slice from a DataFrame.\n",
      "Try using .loc[row_indexer,col_indexer] = value instead\n",
      "\n",
      "See the caveats in the documentation: https://pandas.pydata.org/pandas-docs/stable/user_guide/indexing.html#returning-a-view-versus-a-copy\n",
      "  data.loc[(data['unix_time'] - human_label_time <= 7200) & (data['unix_time'] - human_label_time >= 0), 'anomaly'] = 1\n",
      "/home/austinc/projects/freeway-anomaly-detection/code/datautils.py:215: SettingWithCopyWarning: \n",
      "A value is trying to be set on a copy of a slice from a DataFrame\n",
      "\n",
      "See the caveats in the documentation: https://pandas.pydata.org/pandas-docs/stable/user_guide/indexing.html#returning-a-view-versus-a-copy\n",
      "  data.fillna(0, inplace=True)\n"
     ]
    }
   ],
   "source": [
    "_, test_data, _ = get_full_data()\n",
    "test_data = label_anomalies(test_data)"
   ]
  },
  {
   "cell_type": "code",
   "execution_count": 5,
   "metadata": {},
   "outputs": [],
   "source": [
    "# Whether a crash was reported at each time\n",
    "crash_reported = test_data['crash_record'].to_numpy()[0::196]"
   ]
  },
  {
   "cell_type": "code",
   "execution_count": 29,
   "metadata": {},
   "outputs": [],
   "source": [
    "def run_california(dataset, num_milemarkers):\n",
    "    lanes = [1, 2, 3, 4]\n",
    "    # Run for each lane independently\n",
    "    full_results = []\n",
    "    for lane_num in tqdm(lanes):\n",
    "        lane_data = dataset[lane_num-1::len(lanes)]\n",
    "        # For each lane, run the algorithm for each milemarker\n",
    "        lane_anomaly = []\n",
    "        # First and last milemarkers do not have any upstream/downstream, so always say not anomaly\n",
    "        lane_anomaly.append([0]*len(lane_data[0::num_milemarkers]))\n",
    "        for milemarker_no in range(1, num_milemarkers-1):\n",
    "            # For each milemarker, we need to iterate over all available times\n",
    "            upstream_data = lane_data[milemarker_no+1::num_milemarkers]\n",
    "            downstream_data = lane_data[milemarker_no-1::num_milemarkers]\n",
    "            state = 0\n",
    "            milemarker_anomaly = []\n",
    "            for (upstream_index, upstream), (downstream_index, downstream) in zip(upstream_data.iterrows(), downstream_data.iterrows()):\n",
    "                if upstream['day'] != downstream['day']:\n",
    "                    state = 0\n",
    "                else:\n",
    "                    state = california(state, upstream['occ'], downstream['occ'])\n",
    "                \n",
    "                milemarker_anomaly.append(state)\n",
    "\n",
    "            lane_anomaly.append(milemarker_anomaly)\n",
    "        \n",
    "        lane_anomaly.append([0]*len(lane_data[0::num_milemarkers]))\n",
    "        # lane_anomaly is [num_milemarkers, num_times]\n",
    "\n",
    "        full_results.append(lane_anomaly)\n",
    "    \n",
    "    # full_results is [num_lanes, num_milemarkers, num_times] \n",
    "    # we want it as [num_times, num_nodes] where num_nodes = num_lanes * num_milemarkers\n",
    "    # however, the ordering is important. It should be ordered by lane first, then milemarker (lane1_mm1, lane2_mm1, lane3_mm1, ...)\n",
    "    transposed = np.transpose(full_results, (2, 0, 1))  # Shape becomes [num_times, num_lanes, num_milemarkers]\n",
    "\n",
    "    # Reshape the array to flatten the last two dimensions\n",
    "    reshaped = transposed.reshape(transposed.shape[0], -1)  # Shape becomes [num_times, num_nodes]\n",
    "\n",
    "    return reshaped"
   ]
  },
  {
   "cell_type": "code",
   "execution_count": 31,
   "metadata": {},
   "outputs": [
    {
     "name": "stderr",
     "output_type": "stream",
     "text": [
      "100%|██████████| 4/4 [00:37<00:00,  9.46s/it]\n"
     ]
    }
   ],
   "source": [
    "california_results = run_california(test_data.reset_index(), 49)"
   ]
  },
  {
   "cell_type": "code",
   "execution_count": 32,
   "metadata": {},
   "outputs": [
    {
     "data": {
      "text/plain": [
       "(4800, 196)"
      ]
     },
     "execution_count": 32,
     "metadata": {},
     "output_type": "execute_result"
    }
   ],
   "source": [
    "california_results.shape"
   ]
  },
  {
   "cell_type": "code",
   "execution_count": 37,
   "metadata": {},
   "outputs": [],
   "source": [
    "anomalies = (california_results > 0).astype(int)"
   ]
  },
  {
   "cell_type": "code",
   "execution_count": 38,
   "metadata": {},
   "outputs": [
    {
     "data": {
      "text/plain": [
       "(4800, 196)"
      ]
     },
     "execution_count": 38,
     "metadata": {},
     "output_type": "execute_result"
    }
   ],
   "source": [
    "anomalies.shape"
   ]
  },
  {
   "cell_type": "code",
   "execution_count": 40,
   "metadata": {},
   "outputs": [
    {
     "data": {
      "text/plain": [
       "(4800,)"
      ]
     },
     "execution_count": 40,
     "metadata": {},
     "output_type": "execute_result"
    }
   ],
   "source": [
    "crash_reported.shape"
   ]
  },
  {
   "cell_type": "code",
   "execution_count": null,
   "metadata": {},
   "outputs": [],
   "source": [
    "def crash_detection_delay(anomaly_pred, crash_reported, sr=0.5):\n",
    "    time_anomalies = np.any(anomaly_pred==1, axis=1)\n",
    "    delay = []\n",
    "    detects = []\n",
    "    \n",
    "    reported_indices = np.where(crash_reported == 1)[0]\n",
    "    for i in reported_indices:\n",
    "        detected = False\n",
    "        for t in range(int(i-(15/sr)), int(i+(15/sr))):\n",
    "            if t >= len(time_anomalies):\n",
    "                detected = False\n",
    "                break\n",
    "            if time_anomalies[t] == 1:\n",
    "                delay.append(t-i)\n",
    "                detected = True\n",
    "                break\n",
    "            \n",
    "        detects.append(detected)\n",
    "    \n",
    "    return delay, detects"
   ]
  },
  {
   "cell_type": "code",
   "execution_count": 41,
   "metadata": {},
   "outputs": [],
   "source": [
    "delay, detects = crash_detection_delay(anomalies, crash_reported)"
   ]
  },
  {
   "cell_type": "code",
   "execution_count": 49,
   "metadata": {},
   "outputs": [
    {
     "data": {
      "text/plain": [
       "[<matplotlib.lines.Line2D at 0x7fc59be6ba90>]"
      ]
     },
     "execution_count": 49,
     "metadata": {},
     "output_type": "execute_result"
    },
    {
     "data": {
      "image/png": "[encoded data removed]",
      "text/plain": [
       "<Figure size 640x480 with 1 Axes>"
      ]
     },
     "metadata": {},
     "output_type": "display_data"
    }
   ],
   "source": [
    "plt.plot(np.any(anomalies==1, axis=1))"
   ]
  },
  {
   "cell_type": "code",
   "execution_count": 64,
   "metadata": {},
   "outputs": [
    {
     "name": "stdout",
     "output_type": "stream",
     "text": [
      "-15.0\n",
      "0.0\n",
      "1.0\n"
     ]
    }
   ],
   "source": [
    "print(np.mean(delay) / 2)\n",
    "print(np.std(delay) / 2)\n",
    "print(np.mean(detects))"
   ]
  },
  {
   "cell_type": "code",
   "execution_count": 61,
   "metadata": {},
   "outputs": [
    {
     "name": "stdout",
     "output_type": "stream",
     "text": [
      "False Positive Rate (FPR): 0.9990942028985508\n"
     ]
    }
   ],
   "source": [
    "from sklearn.metrics import confusion_matrix\n",
    "\n",
    "\n",
    "# Compute the confusion matrix\n",
    "tn, fp, fn, tp = confusion_matrix(test_data['anomaly'].to_numpy()[::196], np.any(anomalies==1, axis=1)).ravel()\n",
    "\n",
    "# Calculate FPR\n",
    "fpr = fp / (fp + tn)\n",
    "\n",
    "print(f\"False Positive Rate (FPR): {fpr}\")\n"
   ]
  },
  {
   "cell_type": "markdown",
   "metadata": {},
   "source": [
    "Note that this is the time-level false positive rate. This is what is used for detection delay calculation. The node level false positive rate is below. If we knew where anomalies occurred, we could compute a more reliable detection delay."
   ]
  },
  {
   "cell_type": "code",
   "execution_count": 63,
   "metadata": {},
   "outputs": [
    {
     "name": "stdout",
     "output_type": "stream",
     "text": [
      "False Positive Rate (FPR): 0.07999667258207631\n"
     ]
    }
   ],
   "source": [
    "from sklearn.metrics import confusion_matrix\n",
    "\n",
    "\n",
    "# Compute the confusion matrix\n",
    "tn, fp, fn, tp = confusion_matrix(test_data['anomaly'].to_numpy(), anomalies.flatten()).ravel()\n",
    "\n",
    "# Calculate FPR\n",
    "fpr = fp / (fp + tn)\n",
    "\n",
    "print(f\"False Positive Rate (FPR): {fpr}\")\n"
   ]
  }
 ],
 "metadata": {
  "kernelspec": {
   "display_name": "transimputer-prognostics",
   "language": "python",
   "name": "python3"
  },
  "language_info": {
   "codemirror_mode": {
    "name": "ipython",
    "version": 3
   },
   "file_extension": ".py",
   "mimetype": "text/x-python",
   "name": "python",
   "nbconvert_exporter": "python",
   "pygments_lexer": "ipython3",
   "version": "3.11.3"
  }
 },
 "nbformat": 4,
 "nbformat_minor": 2
}
