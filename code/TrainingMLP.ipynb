{
 "cells": [
  {
   "cell_type": "markdown",
   "metadata": {},
   "source": [
    "# Training MLP AE\n",
    "\n",
    "What if we have neither spatial nor temporal information? Only using the node features, can we detect anomalies?"
   ]
  },
  {
   "cell_type": "code",
   "execution_count": 1,
   "metadata": {},
   "outputs": [
    {
     "name": "stderr",
     "output_type": "stream",
     "text": [
      "/home/austinc/.conda/envs/traffic-anomaly/lib/python3.11/site-packages/tqdm/auto.py:21: TqdmWarning: IProgress not found. Please update jupyter and ipywidgets. See https://ipywidgets.readthedocs.io/en/stable/user_install.html\n",
      "  from .autonotebook import tqdm as notebook_tqdm\n"
     ]
    }
   ],
   "source": [
    "import torch\n",
    "from torch_geometric.data import Data\n",
    "import numpy as np\n",
    "import matplotlib.pyplot as plt\n",
    "import pandas as pd\n",
    "import optuna\n",
    "\n",
    "from models import MLPAutoencoder\n",
    "from parameters import MLPAEParameters, TrainingParameters\n",
    "from datautils import get_morning_data, get_temporal_sequence, normalize_data, generate_edges, generate_relational_edges, load_best_parameters, get_full_data, label_anomalies\n",
    "from training import save_model, load_model, train_rstae, compute_anomaly_threshold_rstae, test_model, threshold_anomalies, fill_result_df, train_mlpae, test_mlpae\n",
    "from metrics import calculate_accuracy, crash_detection_delay, calculate_tp_fp, find_thresholds, find_delays, find_percent, discrete_fp_delays, generate_anomaly_labels, calculate_auc\n",
    "import torch.nn as nn\n",
    "from tqdm import tqdm\n",
    "\n",
    "import random\n",
    "import os"
   ]
  },
  {
   "cell_type": "markdown",
   "metadata": {},
   "source": [
    "### Time Series Sequencing"
   ]
  },
  {
   "cell_type": "code",
   "execution_count": 2,
   "metadata": {},
   "outputs": [],
   "source": [
    "def sequence_mlp(data, timesteps, hide_anomalies=True):\n",
    "    sequence = []\n",
    "    days = data['day']\n",
    "    anomalies = data['anomaly']\n",
    "    data_vals = data[['occ', 'speed', 'volume']]\n",
    "    unix = data['unix_time']\n",
    "    unique_times = np.unique(data['unix_time'])\n",
    "    kept_indices = []\n",
    "\n",
    "    for index, t in enumerate(tqdm(unique_times[timesteps:])): # skip first 'timesteps'\n",
    "        data_t = []\n",
    "        backward_index = range(index-1, index-timesteps-1, -1)\n",
    "        backward_times = [unique_times[i] for i in backward_index]\n",
    "        curr_day = np.unique(data[data['unix_time']==backward_times[-1]]['day'])[0]\n",
    "        contains_anomaly = np.any([np.unique(data[data['unix_time']==i]['anomaly'])[0] for i in backward_times])\n",
    "        is_curr_day = np.all([np.unique(data[data['unix_time']==i]['day'])[0]==curr_day for i in backward_times])\n",
    "\n",
    "        if (hide_anomalies and contains_anomaly) or not is_curr_day:\n",
    "            continue\n",
    "        \n",
    "        kept_indices.append(index+timesteps)\n",
    "\n",
    "        for i in backward_times:\n",
    "            data_t.append(data[data['unix_time']==i][['occ', 'speed', 'volume']].to_numpy()) # assumes time indices come sequentially, with full data it may not\n",
    "\n",
    "        combined = np.array(data_t)\n",
    "        combined = np.swapaxes(combined, 0, 1)\n",
    "        combined = torch.tensor(combined, dtype=torch.float32)\n",
    "        \n",
    "        curr_data = combined[:,-1,:]\n",
    "        sequence.append([combined, curr_data])\n",
    "\n",
    "    return sequence, kept_indices"
   ]
  },
  {
   "cell_type": "markdown",
   "metadata": {},
   "source": [
    "### Loading Hyperparameters"
   ]
  },
  {
   "cell_type": "code",
   "execution_count": 3,
   "metadata": {},
   "outputs": [],
   "source": [
    "mse_weights = [1,1,1] # weights for loss function (occupancy, speed, volume)"
   ]
  },
  {
   "cell_type": "code",
   "execution_count": 4,
   "metadata": {},
   "outputs": [],
   "source": [
    "optimal_hyperparams = load_best_parameters('mlp')"
   ]
  },
  {
   "cell_type": "code",
   "execution_count": null,
   "metadata": {},
   "outputs": [],
   "source": [
    "optimal_hyperparams"
   ]
  },
  {
   "cell_type": "code",
   "execution_count": 5,
   "metadata": {},
   "outputs": [],
   "source": [
    "training_params = TrainingParameters( \n",
    "    learning_rate=optimal_hyperparams['learning_rate'],\n",
    "    batch_size=1,\n",
    "    timesteps=1,\n",
    "    n_epochs=3\n",
    ")"
   ]
  },
  {
   "cell_type": "code",
   "execution_count": 6,
   "metadata": {},
   "outputs": [],
   "source": [
    "hyperparams =MLPAEParameters(\n",
    "    num_features=3,\n",
    "    latent_dim=2,\n",
    "    hidden_dim=optimal_hyperparams['hidden_dim'],\n",
    ")"
   ]
  },
  {
   "cell_type": "code",
   "execution_count": 7,
   "metadata": {},
   "outputs": [
    {
     "name": "stderr",
     "output_type": "stream",
     "text": [
      "100%|██████████| 13439/13439 [01:08<00:00, 197.14it/s]\n"
     ]
    }
   ],
   "source": [
    "train_data, test_data, _ = get_full_data()\n",
    "train_data = normalize_data(train_data)\n",
    "train_data = label_anomalies(train_data)\n",
    "train_sequence, kept_train_indices = sequence_mlp(train_data, training_params.timesteps)"
   ]
  },
  {
   "cell_type": "code",
   "execution_count": 8,
   "metadata": {},
   "outputs": [],
   "source": [
    "ae = MLPAutoencoder(hyperparams)"
   ]
  },
  {
   "cell_type": "code",
   "execution_count": 9,
   "metadata": {},
   "outputs": [
    {
     "data": {
      "text/plain": [
       "torch.Size([196, 1, 3])"
      ]
     },
     "execution_count": 9,
     "metadata": {},
     "output_type": "execute_result"
    }
   ],
   "source": [
    "train_sequence[0][0].shape"
   ]
  },
  {
   "cell_type": "code",
   "execution_count": 10,
   "metadata": {},
   "outputs": [
    {
     "data": {
      "text/plain": [
       "torch.Size([196, 1, 3])"
      ]
     },
     "execution_count": 10,
     "metadata": {},
     "output_type": "execute_result"
    }
   ],
   "source": [
    "ae(train_sequence[0][0]).shape"
   ]
  },
  {
   "cell_type": "markdown",
   "metadata": {},
   "source": [
    "### Model Training or Loading"
   ]
  },
  {
   "cell_type": "code",
   "execution_count": 11,
   "metadata": {},
   "outputs": [],
   "source": [
    "using_pretrained = True"
   ]
  },
  {
   "cell_type": "code",
   "execution_count": 12,
   "metadata": {},
   "outputs": [],
   "source": [
    "if not using_pretrained:\n",
    "    ae, losses = train_mlpae(params=hyperparams, trainingparams=training_params, training_data=train_sequence, mse_weights=mse_weights, verbose=True)\n",
    "    save_model(ae, 'mlpae')\n",
    "else:\n",
    "    ae = load_model(MLPAutoencoder, hyperparams, 'mlpae')"
   ]
  },
  {
   "cell_type": "code",
   "execution_count": 13,
   "metadata": {},
   "outputs": [],
   "source": [
    "if not using_pretrained:\n",
    "    plt.plot(losses)"
   ]
  },
  {
   "cell_type": "markdown",
   "metadata": {},
   "source": [
    "### Computing Node-level Anomaly Threshold"
   ]
  },
  {
   "cell_type": "code",
   "execution_count": 14,
   "metadata": {},
   "outputs": [],
   "source": [
    "from training import compute_anomaly_threshold_mlpae"
   ]
  },
  {
   "cell_type": "code",
   "execution_count": 15,
   "metadata": {},
   "outputs": [
    {
     "name": "stderr",
     "output_type": "stream",
     "text": [
      "100%|██████████| 6435/6435 [00:01<00:00, 3807.44it/s]\n"
     ]
    }
   ],
   "source": [
    "thresh = compute_anomaly_threshold_mlpae(train_sequence, ae, mse_weights, 'max')"
   ]
  },
  {
   "cell_type": "markdown",
   "metadata": {},
   "source": [
    "### Loading Test Data"
   ]
  },
  {
   "cell_type": "code",
   "execution_count": 16,
   "metadata": {},
   "outputs": [],
   "source": [
    "_, df_test_data, _ = get_full_data()"
   ]
  },
  {
   "cell_type": "code",
   "execution_count": 17,
   "metadata": {},
   "outputs": [
    {
     "name": "stderr",
     "output_type": "stream",
     "text": [
      "100%|██████████| 4799/4799 [00:08<00:00, 557.19it/s]\n"
     ]
    }
   ],
   "source": [
    "test_data = normalize_data(df_test_data)\n",
    "test_data = label_anomalies(test_data)\n",
    "test_data, kept_test_indices = sequence_mlp(test_data, training_params.timesteps, hide_anomalies=False)"
   ]
  },
  {
   "cell_type": "code",
   "execution_count": 18,
   "metadata": {},
   "outputs": [],
   "source": [
    "test_errors, test_recons_speeds, test_true_speeds = test_mlpae(test_data, mse_weights, ae)"
   ]
  },
  {
   "cell_type": "code",
   "execution_count": 19,
   "metadata": {},
   "outputs": [],
   "source": [
    "test_recons_speeds = test_recons_speeds.squeeze()"
   ]
  },
  {
   "cell_type": "code",
   "execution_count": 20,
   "metadata": {},
   "outputs": [
    {
     "data": {
      "text/plain": [
       "0.012620738"
      ]
     },
     "execution_count": 20,
     "metadata": {},
     "output_type": "execute_result"
    }
   ],
   "source": [
    "np.mean(test_errors)"
   ]
  },
  {
   "cell_type": "code",
   "execution_count": 21,
   "metadata": {},
   "outputs": [
    {
     "name": "stderr",
     "output_type": "stream",
     "text": [
      "/home/austinc/projects/freeway-anomaly-detection/code/metrics.py:18: SettingWithCopyWarning: \n",
      "A value is trying to be set on a copy of a slice from a DataFrame.\n",
      "Try using .loc[row_indexer,col_indexer] = value instead\n",
      "\n",
      "See the caveats in the documentation: https://pandas.pydata.org/pandas-docs/stable/user_guide/indexing.html#returning-a-view-versus-a-copy\n",
      "  test_data.loc[(test_data['unix_time'] - human_label_time <= 1800) & (test_data['unix_time'] - human_label_time >= 0), 'anomaly'] = 1\n",
      "/home/austinc/projects/freeway-anomaly-detection/code/metrics.py:28: SettingWithCopyWarning: \n",
      "A value is trying to be set on a copy of a slice from a DataFrame\n",
      "\n",
      "See the caveats in the documentation: https://pandas.pydata.org/pandas-docs/stable/user_guide/indexing.html#returning-a-view-versus-a-copy\n",
      "  test_data.fillna(0, inplace=True)\n"
     ]
    }
   ],
   "source": [
    "# Compute true anomaly labels\n",
    "anomaly_labels = generate_anomaly_labels(df_test_data, kept_test_indices)\n",
    "\n",
    "# Whether a crash was reported at each time\n",
    "crash_reported = df_test_data['crash_record'].to_numpy()[0::196][kept_test_indices]"
   ]
  },
  {
   "cell_type": "markdown",
   "metadata": {},
   "source": [
    "### Compute FPR / Crash Detection Delay Tradeoff"
   ]
  },
  {
   "cell_type": "code",
   "execution_count": 22,
   "metadata": {},
   "outputs": [
    {
     "data": {
      "text/plain": [
       "(4799, 196)"
      ]
     },
     "execution_count": 22,
     "metadata": {},
     "output_type": "execute_result"
    }
   ],
   "source": [
    "test_errors.shape"
   ]
  },
  {
   "cell_type": "code",
   "execution_count": 23,
   "metadata": {},
   "outputs": [
    {
     "name": "stderr",
     "output_type": "stream",
     "text": [
      "100%|██████████| 1000/1000 [01:07<00:00, 14.89it/s]\n",
      "/home/austinc/.conda/envs/traffic-anomaly/lib/python3.11/site-packages/numpy/core/fromnumeric.py:3464: RuntimeWarning: Mean of empty slice.\n",
      "  return _methods._mean(a, axis=axis, dtype=dtype,\n",
      "/home/austinc/.conda/envs/traffic-anomaly/lib/python3.11/site-packages/numpy/core/_methods.py:192: RuntimeWarning: invalid value encountered in scalar divide\n",
      "  ret = ret.dtype.type(ret / rcount)\n",
      "/home/austinc/.conda/envs/traffic-anomaly/lib/python3.11/site-packages/numpy/core/_methods.py:269: RuntimeWarning: Degrees of freedom <= 0 for slice\n",
      "  ret = _var(a, axis=axis, dtype=dtype, out=out, ddof=ddof,\n",
      "/home/austinc/.conda/envs/traffic-anomaly/lib/python3.11/site-packages/numpy/core/_methods.py:226: RuntimeWarning: invalid value encountered in divide\n",
      "  arrmean = um.true_divide(arrmean, div, out=arrmean,\n",
      "/home/austinc/.conda/envs/traffic-anomaly/lib/python3.11/site-packages/numpy/core/_methods.py:261: RuntimeWarning: invalid value encountered in scalar divide\n",
      "  ret = ret.dtype.type(ret / rcount)\n",
      "100%|██████████| 98/98 [00:00<00:00, 109.36it/s]\n"
     ]
    }
   ],
   "source": [
    "delay_results = np.array(find_delays(thresh, test_errors, anomaly_labels, crash_reported))"
   ]
  },
  {
   "cell_type": "code",
   "execution_count": 24,
   "metadata": {},
   "outputs": [],
   "source": [
    "delay_df = pd.DataFrame(delay_results, columns=['FPR', 'Mean Delay', 'Std Delay', 'Found Percent'])\n",
    "delay_df.to_csv('./saved_results/mlpae_fp_delay.csv')"
   ]
  },
  {
   "cell_type": "code",
   "execution_count": 25,
   "metadata": {},
   "outputs": [
    {
     "data": {
      "image/png": "[encoded data removed]",
      "text/plain": [
       "<Figure size 640x480 with 1 Axes>"
      ]
     },
     "metadata": {},
     "output_type": "display_data"
    }
   ],
   "source": [
    "x_values = delay_df['FPR']\n",
    "y_values = delay_df['Mean Delay'] / 2\n",
    "std_values = delay_df['Std Delay'] / 2\n",
    "\n",
    "plt.plot(x_values, y_values, color='blue', label='RSTAE', marker='x')\n",
    "\n",
    "lower_bound = y_values - std_values  # 1.96 is the z-score for 95% confidence interval\n",
    "upper_bound = y_values + std_values\n",
    "\n",
    "plt.fill_between(x_values, lower_bound, upper_bound, color='blue', alpha=0.2)\n",
    "plt.ylim(-16, 16)\n",
    "# plt.xlim(-0.01,1)\n",
    "plt.xlabel(\"False Positive Rate (%)\")\n",
    "plt.ylabel(\"Detection Delay (min)\")\n",
    "plt.title(\"Crash Detection and False Positive Tradeoff\")\n",
    "plt.legend()\n",
    "plt.show()"
   ]
  },
  {
   "cell_type": "code",
   "execution_count": 26,
   "metadata": {},
   "outputs": [
    {
     "name": "stderr",
     "output_type": "stream",
     "text": [
      "100%|██████████| 1000/1000 [01:07<00:00, 14.92it/s]"
     ]
    },
    {
     "name": "stdout",
     "output_type": "stream",
     "text": [
      "FPR 1% gives mean delay of -2.8 +/- 8.67525215771853 while missing 0.5833333333333333%.\n",
      "FPR 2.5% gives mean delay of -8.5 +/- 5.709640969448079 while missing 0.5833333333333333%.\n",
      "FPR 5% gives mean delay of -6.857142857142857 +/- 6.8697800220254805 while missing 0.41666666666666663%.\n",
      "FPR 10% gives mean delay of -7.444444444444445 +/- 6.383330915771711 while missing 0.25%.\n",
      "FPR 20% gives mean delay of -12.333333333333334 +/- 4.988876515698588 while missing 0.25%.\n"
     ]
    },
    {
     "name": "stderr",
     "output_type": "stream",
     "text": [
      "\n"
     ]
    }
   ],
   "source": [
    "discrete_fp_delays(thresh, test_errors, anomaly_labels, crash_reported)"
   ]
  },
  {
   "cell_type": "markdown",
   "metadata": {},
   "source": [
    "### Compute AUC"
   ]
  },
  {
   "cell_type": "code",
   "execution_count": 27,
   "metadata": {},
   "outputs": [
    {
     "data": {
      "text/plain": [
       "0.6233912289195513"
      ]
     },
     "execution_count": 27,
     "metadata": {},
     "output_type": "execute_result"
    }
   ],
   "source": [
    "calculate_auc(test_errors, anomaly_labels)"
   ]
  },
  {
   "cell_type": "markdown",
   "metadata": {},
   "source": [
    "### Copmute Detection Delay Histogram on Full Dataset"
   ]
  },
  {
   "cell_type": "code",
   "execution_count": 28,
   "metadata": {},
   "outputs": [],
   "source": [
    "_, _, full_data = get_full_data()\n",
    "full_data = normalize_data(full_data)\n",
    "full_data = label_anomalies(full_data)"
   ]
  },
  {
   "cell_type": "code",
   "execution_count": 29,
   "metadata": {},
   "outputs": [
    {
     "name": "stderr",
     "output_type": "stream",
     "text": [
      "  0%|          | 0/18239 [00:00<?, ?it/s]"
     ]
    },
    {
     "name": "stderr",
     "output_type": "stream",
     "text": [
      "100%|██████████| 18239/18239 [02:24<00:00, 126.13it/s]\n"
     ]
    }
   ],
   "source": [
    "full_sequence, kept_full_indices = sequence_mlp(full_data, training_params.timesteps, hide_anomalies=False)"
   ]
  },
  {
   "cell_type": "code",
   "execution_count": 30,
   "metadata": {},
   "outputs": [],
   "source": [
    "full_errors, _, _ = test_mlpae(full_sequence, mse_weights, ae)"
   ]
  },
  {
   "cell_type": "code",
   "execution_count": 31,
   "metadata": {},
   "outputs": [
    {
     "name": "stderr",
     "output_type": "stream",
     "text": [
      "/home/austinc/projects/freeway-anomaly-detection/code/metrics.py:28: SettingWithCopyWarning: \n",
      "A value is trying to be set on a copy of a slice from a DataFrame\n",
      "\n",
      "See the caveats in the documentation: https://pandas.pydata.org/pandas-docs/stable/user_guide/indexing.html#returning-a-view-versus-a-copy\n",
      "  test_data.fillna(0, inplace=True)\n"
     ]
    }
   ],
   "source": [
    "full_anomalies = generate_anomaly_labels(full_data, kept_full_indices)\n",
    "crash_reported = full_data['crash_record'].to_numpy()[0::196][kept_full_indices]"
   ]
  },
  {
   "cell_type": "code",
   "execution_count": 32,
   "metadata": {},
   "outputs": [
    {
     "name": "stderr",
     "output_type": "stream",
     "text": [
      "100%|██████████| 1000/1000 [04:19<00:00,  3.85it/s]\n"
     ]
    }
   ],
   "source": [
    "full_thresholds = find_thresholds(thresh, full_errors, full_anomalies)"
   ]
  },
  {
   "cell_type": "code",
   "execution_count": 33,
   "metadata": {},
   "outputs": [],
   "source": [
    "offset = find_percent(full_thresholds, 10)\n",
    "full_anomaly_pred = threshold_anomalies(thresh+offset, full_errors)\n"
   ]
  },
  {
   "cell_type": "code",
   "execution_count": 34,
   "metadata": {},
   "outputs": [],
   "source": [
    "delay, found = crash_detection_delay(full_anomaly_pred, crash_reported)"
   ]
  },
  {
   "cell_type": "code",
   "execution_count": 35,
   "metadata": {},
   "outputs": [
    {
     "data": {
      "text/plain": [
       "<matplotlib.legend.Legend at 0x7fa63d4e1c90>"
      ]
     },
     "execution_count": 35,
     "metadata": {},
     "output_type": "execute_result"
    },
    {
     "data": {
      "image/png": "[encoded data removed]",
      "text/plain": [
       "<Figure size 640x480 with 1 Axes>"
      ]
     },
     "metadata": {},
     "output_type": "display_data"
    }
   ],
   "source": [
    "import seaborn as sns \n",
    "\n",
    "delay = delay + [30] * (len(found) - np.count_nonzero(found))\n",
    "\n",
    "sns.histplot(np.array(delay)/2, binwidth=1, alpha=0.5, label='rstae')\n",
    "plt.legend()"
   ]
  },
  {
   "cell_type": "code",
   "execution_count": 36,
   "metadata": {},
   "outputs": [],
   "source": [
    "np.save('./saved_results/mlpae10delays.npy', np.array(delay)/2)"
   ]
  },
  {
   "cell_type": "code",
   "execution_count": 37,
   "metadata": {},
   "outputs": [],
   "source": [
    "_, df_clean_test_data, _ = get_full_data()"
   ]
  },
  {
   "cell_type": "code",
   "execution_count": 38,
   "metadata": {},
   "outputs": [
    {
     "name": "stderr",
     "output_type": "stream",
     "text": [
      "100%|██████████| 4799/4799 [00:06<00:00, 781.78it/s]\n"
     ]
    }
   ],
   "source": [
    "clean_test_data = normalize_data(df_clean_test_data)\n",
    "clean_test_data = label_anomalies(clean_test_data)\n",
    "clean_test_data, kept_test_indices = sequence_mlp(clean_test_data, training_params.timesteps, hide_anomalies=True)"
   ]
  },
  {
   "cell_type": "code",
   "execution_count": 39,
   "metadata": {},
   "outputs": [],
   "source": [
    "clean_test_errors, test_recons_speeds, test_true_speeds = test_mlpae(clean_test_data, mse_weights, ae)"
   ]
  },
  {
   "cell_type": "code",
   "execution_count": 40,
   "metadata": {},
   "outputs": [
    {
     "data": {
      "text/plain": [
       "0.012198172"
      ]
     },
     "execution_count": 40,
     "metadata": {},
     "output_type": "execute_result"
    }
   ],
   "source": [
    "np.mean(clean_test_errors)"
   ]
  },
  {
   "cell_type": "code",
   "execution_count": 34,
   "metadata": {},
   "outputs": [],
   "source": [
    "# data = fill_result_df(anomalies_10, test_true_speeds, test_recons_speeds, training_params.timesteps)"
   ]
  },
  {
   "cell_type": "code",
   "execution_count": 35,
   "metadata": {},
   "outputs": [],
   "source": [
    "# data.to_csv('./saved_results/full_results_test_transformerae.csv')"
   ]
  },
  {
   "cell_type": "code",
   "execution_count": 36,
   "metadata": {},
   "outputs": [],
   "source": [
    "# import pandas as pd\n",
    "# import matplotlib.pyplot as plt\n",
    "# import matplotlib.dates as mdates\n",
    "\n",
    "# data = pd.read_csv('./saved_results/full_results_test_transformerae.csv', index_col=0)\n",
    "# data['Time Index'] = pd.to_datetime(data['Time Index'] * 30, unit='s')\n",
    "# plt.figure(figsize=(16,4), facecolor='white')\n",
    "# plt.rc('font', family='serif', size=15)\n",
    "# lane = data[data.Lane == 1]\n",
    "# # plt.scatter(lane['Time Index'].values , lane.Milemarker.values, \n",
    "# #                             c=lane['Reconstructed Speed'].values,marker='s',s=1, cmap='RdYlGn')\n",
    "# plt.scatter(lane['Time Index'].values , lane.Milemarker.values, \n",
    "#                             c=np.abs(lane['Reconstructed Speed'].values-lane['Speed']),marker='s',s=1, cmap='viridis')\n",
    "# plt.gca().invert_yaxis()\n",
    "# plt.gca().xaxis.set_major_formatter(mdates.DateFormatter('%H:%M'))\n",
    "# plt.title(\"Reconstructed Speeds Lane 1 Thursday, Oct 26, Morning\")\n",
    "# plt.xlabel(\"Time of Day\")\n",
    "# plt.ylabel(\"Milemarker\")\n",
    "# plt.show()"
   ]
  },
  {
   "cell_type": "code",
   "execution_count": 37,
   "metadata": {},
   "outputs": [],
   "source": [
    "# from matplotlib.ticker import MultipleLocator\n",
    "\n",
    "# plt.figure(figsize=(16,4), facecolor='white')\n",
    "# plt.rc('font', family='serif', size=15)\n",
    "# lane = data[data.Lane == 1]\n",
    "# plt.scatter(lane['Time Index'].values , lane.Milemarker.values, \n",
    "#                             c=lane['Speed'].values,marker='s',s=1, cmap='RdYlGn')\n",
    "# plt.gca().invert_yaxis()\n",
    "# # plt.gca().xaxis.set_major_locator(MultipleLocator(0.01))\n",
    "# plt.gca().xaxis.set_major_formatter(mdates.DateFormatter('%H:%M'))\n",
    "\n",
    "# # Set x-axis limits\n",
    "# start_time = pd.to_datetime('1970-01-01 09:30:00')\n",
    "# end_time = pd.to_datetime('1970-01-01 09:50:00')\n",
    "# # plt.xlim(start_time, end_time)\n",
    "# # plt.ylim()\n",
    "\n",
    "# plt.title(\"True Speeds Lane 1 Thursday, Oct 26, Morning\")\n",
    "# plt.xlabel(\"Time of Day\")\n",
    "# plt.ylabel(\"Milemarker\")\n",
    "# plt.show()"
   ]
  },
  {
   "cell_type": "code",
   "execution_count": 38,
   "metadata": {},
   "outputs": [],
   "source": [
    "# plt.figure(figsize=(16,4), facecolor='white')\n",
    "# plt.rc('font', family='serif', size=15)\n",
    "# lane = data[data.Lane == 1]\n",
    "# plt.scatter(lane['Time Index'].values , lane.Milemarker.values, \n",
    "#                             c=lane['Anomaly'].values,marker='s',s=1, cmap='viridis', label='Nominal')\n",
    "# plt.gca().invert_yaxis()\n",
    "# # plt.gca().xaxis.set_major_locator(MultipleLocator(0.5))\n",
    "# plt.gca().xaxis.set_major_formatter(mdates.DateFormatter('%H:%M'))\n",
    "# # Set x-axis limits\n",
    "# start_time = pd.to_datetime('1970-01-01 08:00:00')\n",
    "# end_time = pd.to_datetime('1970-01-01 11:00:00')\n",
    "# # plt.xlim(start_time, end_time)\n",
    "\n",
    "# # Add vertical line at '1970-01-01 09:39:22'\n",
    "# vline_time = pd.to_datetime('1970-01-01 09:39:22')\n",
    "# plt.axvline(x=vline_time, color='red', linestyle='--', linewidth=2, label='Crash Reported', alpha=0.25)\n",
    "# plt.axhline(y=62.2, color='red', linestyle='--', alpha=0.25)\n",
    "# # plt.ylim(60,65)\n",
    "# plt.legend(loc='upper right')\n",
    "# plt.title(\"Anomaly Detection Lane 1 Thursday Oct 26, Morning\")\n",
    "# plt.xlabel(\"Time of Day\")\n",
    "# plt.ylabel(\"Milemarker\")\n",
    "# plt.show()"
   ]
  }
 ],
 "metadata": {
  "kernelspec": {
   "display_name": "transimputer-prognostics",
   "language": "python",
   "name": "python3"
  },
  "language_info": {
   "codemirror_mode": {
    "name": "ipython",
    "version": 3
   },
   "file_extension": ".py",
   "mimetype": "text/x-python",
   "name": "python",
   "nbconvert_exporter": "python",
   "pygments_lexer": "ipython3",
   "version": "3.11.3"
  }
 },
 "nbformat": 4,
 "nbformat_minor": 2
}
