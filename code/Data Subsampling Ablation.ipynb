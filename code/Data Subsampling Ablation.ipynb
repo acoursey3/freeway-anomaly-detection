{
 "cells": [
  {
   "cell_type": "markdown",
   "metadata": {},
   "source": [
    "# Data Subsampling Ablation"
   ]
  },
  {
   "cell_type": "code",
   "execution_count": 1,
   "metadata": {},
   "outputs": [
    {
     "name": "stderr",
     "output_type": "stream",
     "text": [
      "/home/austinc/.conda/envs/traffic-anomaly/lib/python3.11/site-packages/tqdm/auto.py:21: TqdmWarning: IProgress not found. Please update jupyter and ipywidgets. See https://ipywidgets.readthedocs.io/en/stable/user_install.html\n",
      "  from .autonotebook import tqdm as notebook_tqdm\n"
     ]
    }
   ],
   "source": [
    "import torch\n",
    "from torch_geometric.data import Data\n",
    "import numpy as np\n",
    "import matplotlib.pyplot as plt\n",
    "import pandas as pd\n",
    "import optuna\n",
    "\n",
    "from models import GraphAE\n",
    "from parameters import GraphAEParameters, TrainingParameters\n",
    "from datautils import get_morning_data, get_gcnae_sequence, normalize_data, generate_edges, generate_relational_edges, load_best_parameters, get_full_data, label_anomalies\n",
    "from training import save_model, load_model, train_gcnae, compute_anomaly_threshold_gcnae, test_model, threshold_anomalies, fill_result_df, test_gcnae\n",
    "from metrics import calculate_accuracy, crash_detection_delay, calculate_tp_fp, find_thresholds, find_delays, find_percent, discrete_fp_delays, generate_anomaly_labels, calculate_auc\n",
    "import torch.nn as nn\n",
    "from tqdm import tqdm\n",
    "\n",
    "import random\n",
    "import os"
   ]
  },
  {
   "cell_type": "code",
   "execution_count": 2,
   "metadata": {},
   "outputs": [],
   "source": [
    "granularities = {\n",
    "    '1 minute': 2,\n",
    "    '2.5 minute': 5,\n",
    "    '5 minute': 10\n",
    "}\n",
    "\n",
    "granularity = granularities['2.5 minute']"
   ]
  },
  {
   "cell_type": "markdown",
   "metadata": {},
   "source": [
    "### Time Series Sequencing"
   ]
  },
  {
   "cell_type": "code",
   "execution_count": 3,
   "metadata": {},
   "outputs": [],
   "source": [
    "def sequence_gcnae(data, timesteps, hide_anomalies=True):\n",
    "    sequence = []\n",
    "    static_edges = generate_edges(milemarkers=list(range(49)))\n",
    "    unique_times = np.unique(data['unix_time'])\n",
    "    kept_indices = []\n",
    "\n",
    "    for index, t in enumerate(tqdm(unique_times)):\n",
    "        data_t = []\n",
    "        contains_anomaly = np.any([np.unique(data[data['unix_time']==t]['anomaly'])[0]])\n",
    "\n",
    "        if (hide_anomalies and contains_anomaly):\n",
    "            continue\n",
    "        \n",
    "        kept_indices.append(index)\n",
    "\n",
    "        data_t.append(data[data['unix_time']==t][['occ', 'speed', 'volume']].to_numpy()) # assumes time indices come sequentially, with full data it may not\n",
    "        \n",
    "        curr_data = data_t[-1]\n",
    "        curr_graph = Data(x=torch.tensor(curr_data, dtype=torch.float32), edge_index=static_edges)\n",
    "        sequence.append(curr_graph)\n",
    "\n",
    "    return sequence, kept_indices"
   ]
  },
  {
   "cell_type": "markdown",
   "metadata": {},
   "source": [
    "### Loading Hyperparameters"
   ]
  },
  {
   "cell_type": "code",
   "execution_count": 4,
   "metadata": {},
   "outputs": [],
   "source": [
    "optimal_hyperparams = load_best_parameters('gcn_v2')"
   ]
  },
  {
   "cell_type": "code",
   "execution_count": 5,
   "metadata": {},
   "outputs": [
    {
     "data": {
      "text/plain": [
       "{'dropout': 0.03472588957921531,\n",
       " 'epochs': 10,\n",
       " 'gcn_hidden_dim': 64,\n",
       " 'latent_dim': 128,\n",
       " 'learning_rate': 0.0004708326073117493,\n",
       " 'num_gcn': 1,\n",
       " 'timesteps': 2}"
      ]
     },
     "execution_count": 5,
     "metadata": {},
     "output_type": "execute_result"
    }
   ],
   "source": [
    "optimal_hyperparams"
   ]
  },
  {
   "cell_type": "code",
   "execution_count": 6,
   "metadata": {},
   "outputs": [],
   "source": [
    "mse_weights = [1,1,1] # weights for loss function (occupancy, speed, volume)"
   ]
  },
  {
   "cell_type": "code",
   "execution_count": 7,
   "metadata": {},
   "outputs": [],
   "source": [
    "training_params = TrainingParameters(\n",
    "    learning_rate=optimal_hyperparams['learning_rate'],\n",
    "    batch_size=1,\n",
    "    timesteps=0,\n",
    "    n_epochs=1\n",
    ")"
   ]
  },
  {
   "cell_type": "code",
   "execution_count": 8,
   "metadata": {},
   "outputs": [
    {
     "name": "stderr",
     "output_type": "stream",
     "text": [
      "100%|██████████| 13440/13440 [00:31<00:00, 426.01it/s]\n"
     ]
    }
   ],
   "source": [
    "train_data, test_data, _ = get_full_data()\n",
    "train_data = normalize_data(train_data)\n",
    "train_data = label_anomalies(train_data)\n",
    "train_sequence, kept_train_indices = sequence_gcnae(train_data, training_params.timesteps)"
   ]
  },
  {
   "cell_type": "code",
   "execution_count": 9,
   "metadata": {},
   "outputs": [
    {
     "data": {
      "text/plain": [
       "6436"
      ]
     },
     "execution_count": 9,
     "metadata": {},
     "output_type": "execute_result"
    }
   ],
   "source": [
    "len(train_sequence)"
   ]
  },
  {
   "cell_type": "code",
   "execution_count": 10,
   "metadata": {},
   "outputs": [],
   "source": [
    "def subsample(data_sequence, num_downsampling=2):\n",
    "    return data_sequence[::num_downsampling]"
   ]
  },
  {
   "cell_type": "code",
   "execution_count": 11,
   "metadata": {},
   "outputs": [],
   "source": [
    "train_sequence = subsample(train_sequence, granularity)"
   ]
  },
  {
   "cell_type": "code",
   "execution_count": 12,
   "metadata": {},
   "outputs": [],
   "source": [
    "hyperparams = GraphAEParameters(\n",
    "    num_features=3,\n",
    "    latent_dim=optimal_hyperparams['latent_dim'],\n",
    "    gcn_hidden_dim=optimal_hyperparams['gcn_hidden_dim'],\n",
    "    dropout=optimal_hyperparams['dropout'],\n",
    "    num_gcn=optimal_hyperparams['num_gcn']\n",
    ")"
   ]
  },
  {
   "cell_type": "code",
   "execution_count": 13,
   "metadata": {},
   "outputs": [],
   "source": [
    "ae = GraphAE(hyperparams)"
   ]
  },
  {
   "cell_type": "code",
   "execution_count": 14,
   "metadata": {},
   "outputs": [
    {
     "data": {
      "text/plain": [
       "torch.Size([196, 3])"
      ]
     },
     "execution_count": 14,
     "metadata": {},
     "output_type": "execute_result"
    }
   ],
   "source": [
    "ae(train_sequence[0]).shape"
   ]
  },
  {
   "cell_type": "markdown",
   "metadata": {},
   "source": [
    "### Model Training or Loading"
   ]
  },
  {
   "cell_type": "code",
   "execution_count": 15,
   "metadata": {},
   "outputs": [],
   "source": [
    "using_pretrained = False"
   ]
  },
  {
   "cell_type": "code",
   "execution_count": 16,
   "metadata": {},
   "outputs": [
    {
     "name": "stderr",
     "output_type": "stream",
     "text": [
      "  0%|          | 0/1 [00:00<?, ?it/s]"
     ]
    },
    {
     "name": "stderr",
     "output_type": "stream",
     "text": [
      "100%|██████████| 1/1 [00:13<00:00, 13.63s/it]"
     ]
    },
    {
     "name": "stdout",
     "output_type": "stream",
     "text": [
      "Epoch number 0 last 100 loss 0.010257384038995952\n"
     ]
    },
    {
     "name": "stderr",
     "output_type": "stream",
     "text": [
      "\n"
     ]
    }
   ],
   "source": [
    "if not using_pretrained:\n",
    "    ae, losses = train_gcnae(gcnaeparams=hyperparams, trainingparams=training_params, training_data=train_sequence, mse_weights=mse_weights, verbose=True)\n",
    "    save_model(ae, f'gcn_sub_{granularity}')\n",
    "else:\n",
    "    ae = load_model(GraphAE, hyperparams, f'gcn_sub_{granularity}')"
   ]
  },
  {
   "cell_type": "code",
   "execution_count": 17,
   "metadata": {},
   "outputs": [
    {
     "data": {
      "image/png": "[encoded data removed]",
      "text/plain": [
       "<Figure size 640x480 with 1 Axes>"
      ]
     },
     "metadata": {},
     "output_type": "display_data"
    }
   ],
   "source": [
    "if not using_pretrained:\n",
    "    plt.plot(losses)"
   ]
  },
  {
   "cell_type": "markdown",
   "metadata": {},
   "source": [
    "### Computing Node-level Anomaly Threshold"
   ]
  },
  {
   "cell_type": "code",
   "execution_count": 18,
   "metadata": {},
   "outputs": [
    {
     "name": "stderr",
     "output_type": "stream",
     "text": [
      "100%|██████████| 1288/1288 [00:03<00:00, 377.93it/s]\n"
     ]
    }
   ],
   "source": [
    "thresh = compute_anomaly_threshold_gcnae(train_sequence, ae, mse_weights, 'max')"
   ]
  },
  {
   "cell_type": "markdown",
   "metadata": {},
   "source": [
    "### Loading Test Data"
   ]
  },
  {
   "cell_type": "code",
   "execution_count": 19,
   "metadata": {},
   "outputs": [],
   "source": [
    "_, df_test_data, _ = get_full_data()"
   ]
  },
  {
   "cell_type": "code",
   "execution_count": 20,
   "metadata": {},
   "outputs": [
    {
     "name": "stderr",
     "output_type": "stream",
     "text": [
      "100%|██████████| 4800/4800 [00:04<00:00, 960.71it/s]\n"
     ]
    }
   ],
   "source": [
    "test_data = normalize_data(df_test_data)\n",
    "test_data = label_anomalies(test_data)\n",
    "test_data, kept_test_indices = sequence_gcnae(test_data, training_params.timesteps, hide_anomalies=False)\n",
    "test_data = subsample(test_data, granularity)\n",
    "unsubsampled_test_indices = kept_test_indices\n",
    "kept_test_indices = subsample(kept_test_indices, granularity)"
   ]
  },
  {
   "cell_type": "code",
   "execution_count": 21,
   "metadata": {},
   "outputs": [],
   "source": [
    "test_errors, test_recons_speeds, test_true_speeds = test_gcnae(test_data, mse_weights, ae)"
   ]
  },
  {
   "cell_type": "code",
   "execution_count": 22,
   "metadata": {},
   "outputs": [
    {
     "data": {
      "text/plain": [
       "0.014231702"
      ]
     },
     "execution_count": 22,
     "metadata": {},
     "output_type": "execute_result"
    }
   ],
   "source": [
    "np.mean(test_errors)"
   ]
  },
  {
   "cell_type": "code",
   "execution_count": 23,
   "metadata": {},
   "outputs": [
    {
     "name": "stderr",
     "output_type": "stream",
     "text": [
      "/home/austinc/projects/freeway-anomaly-detection/code/metrics.py:18: SettingWithCopyWarning: \n",
      "A value is trying to be set on a copy of a slice from a DataFrame.\n",
      "Try using .loc[row_indexer,col_indexer] = value instead\n",
      "\n",
      "See the caveats in the documentation: https://pandas.pydata.org/pandas-docs/stable/user_guide/indexing.html#returning-a-view-versus-a-copy\n",
      "  test_data.loc[(test_data['unix_time'] - human_label_time <= 1800) & (test_data['unix_time'] - human_label_time >= 0), 'anomaly'] = 1\n",
      "/home/austinc/projects/freeway-anomaly-detection/code/metrics.py:28: SettingWithCopyWarning: \n",
      "A value is trying to be set on a copy of a slice from a DataFrame\n",
      "\n",
      "See the caveats in the documentation: https://pandas.pydata.org/pandas-docs/stable/user_guide/indexing.html#returning-a-view-versus-a-copy\n",
      "  test_data.fillna(0, inplace=True)\n"
     ]
    }
   ],
   "source": [
    "# Compute true anomaly labels\n",
    "anomaly_labels = generate_anomaly_labels(df_test_data, kept_test_indices)\n",
    "\n",
    "# Whether a crash was reported at each time\n",
    "crash_reported = df_test_data['crash_record'].to_numpy()[0::196][unsubsampled_test_indices] # need to ensure that this still has the true crash values even though it is subsampled"
   ]
  },
  {
   "cell_type": "code",
   "execution_count": 24,
   "metadata": {},
   "outputs": [],
   "source": [
    "# Moves crash reports to the next available slice if they would be removed from subsampling\n",
    "# Uses a conservative estimation that the crash would not be reported until the next available time index\n",
    "def move_to_slice(arr, step=2):\n",
    "    result = []\n",
    "    carry = False  # To carry over a True value to the next slice\n",
    "\n",
    "    for i in range(0, len(arr), step):\n",
    "        # Slice the array based on the given step\n",
    "        slice_ = arr[i:i + step]\n",
    "        \n",
    "        if carry:\n",
    "            result.append(True)\n",
    "        else:\n",
    "            result.append(slice_[0])  # Append the first element of the slice\n",
    "        \n",
    "        carry = np.any(slice_[1:])  # Set carry to True if there's any True in the remaining part of the slice\n",
    "\n",
    "    return np.array(result)"
   ]
  },
  {
   "cell_type": "code",
   "execution_count": 25,
   "metadata": {},
   "outputs": [],
   "source": [
    "crash_reported = move_to_slice(crash_reported, granularity)"
   ]
  },
  {
   "cell_type": "markdown",
   "metadata": {},
   "source": [
    "### Compute FPR / Crash Detection Delay Tradeoff"
   ]
  },
  {
   "cell_type": "code",
   "execution_count": 26,
   "metadata": {},
   "outputs": [
    {
     "name": "stderr",
     "output_type": "stream",
     "text": [
      "100%|██████████| 1000/1000 [00:13<00:00, 75.03it/s]\n",
      "/home/austinc/.conda/envs/traffic-anomaly/lib/python3.11/site-packages/numpy/core/fromnumeric.py:3464: RuntimeWarning: Mean of empty slice.\n",
      "  return _methods._mean(a, axis=axis, dtype=dtype,\n",
      "/home/austinc/.conda/envs/traffic-anomaly/lib/python3.11/site-packages/numpy/core/_methods.py:192: RuntimeWarning: invalid value encountered in scalar divide\n",
      "  ret = ret.dtype.type(ret / rcount)\n",
      "/home/austinc/.conda/envs/traffic-anomaly/lib/python3.11/site-packages/numpy/core/_methods.py:269: RuntimeWarning: Degrees of freedom <= 0 for slice\n",
      "  ret = _var(a, axis=axis, dtype=dtype, out=out, ddof=ddof,\n",
      "/home/austinc/.conda/envs/traffic-anomaly/lib/python3.11/site-packages/numpy/core/_methods.py:226: RuntimeWarning: invalid value encountered in divide\n",
      "  arrmean = um.true_divide(arrmean, div, out=arrmean,\n",
      "/home/austinc/.conda/envs/traffic-anomaly/lib/python3.11/site-packages/numpy/core/_methods.py:261: RuntimeWarning: invalid value encountered in scalar divide\n",
      "  ret = ret.dtype.type(ret / rcount)\n",
      "100%|██████████| 98/98 [00:00<00:00, 624.39it/s]\n"
     ]
    }
   ],
   "source": [
    "delay_results = np.array(find_delays(thresh, test_errors, anomaly_labels, crash_reported, changed_sr=True))"
   ]
  },
  {
   "cell_type": "code",
   "execution_count": 27,
   "metadata": {},
   "outputs": [],
   "source": [
    "delay_df = pd.DataFrame(delay_results, columns=['FPR', 'Mean Delay', 'Std Delay', 'Found Percent'])\n",
    "delay_df.to_csv(f'./saved_results/gcnae_sub__{granularity}_fp_delay.csv')"
   ]
  },
  {
   "cell_type": "code",
   "execution_count": 28,
   "metadata": {},
   "outputs": [
    {
     "data": {
      "image/png": "[encoded data removed]",
      "text/plain": [
       "<Figure size 640x480 with 1 Axes>"
      ]
     },
     "metadata": {},
     "output_type": "display_data"
    }
   ],
   "source": [
    "x_values = delay_df['FPR']\n",
    "y_values = delay_df['Mean Delay'] / 2\n",
    "std_values = delay_df['Std Delay'] / 2\n",
    "\n",
    "plt.plot(x_values, y_values, color='blue', label='GCNAE', marker='x')\n",
    "\n",
    "lower_bound = y_values - std_values  # 1.96 is the z-score for 95% confidence interval\n",
    "upper_bound = y_values + std_values\n",
    "\n",
    "plt.fill_between(x_values, lower_bound, upper_bound, color='blue', alpha=0.2)\n",
    "plt.ylim(-16, 16)\n",
    "# plt.xlim(-0.01,1)\n",
    "plt.xlabel(\"False Positive Rate (%)\")\n",
    "plt.ylabel(\"Detection Delay (min)\")\n",
    "plt.title(\"Crash Detection and False Positive Tradeoff\")\n",
    "plt.legend()\n",
    "plt.show()"
   ]
  },
  {
   "cell_type": "code",
   "execution_count": 29,
   "metadata": {},
   "outputs": [
    {
     "name": "stderr",
     "output_type": "stream",
     "text": [
      "100%|██████████| 1000/1000 [00:13<00:00, 75.59it/s]"
     ]
    },
    {
     "name": "stdout",
     "output_type": "stream",
     "text": [
      "FPR 1% gives mean delay of 3.875 +/- 5.152365961381237 while missing 0.6666666666666667%.\n",
      "FPR 2.5% gives mean delay of 2.357142857142857 +/- 6.588487175771546 while missing 0.41666666666666663%.\n",
      "FPR 5% gives mean delay of -9.555555555555555 +/- 4.310481053615739 while missing 0.25%.\n",
      "FPR 10% gives mean delay of -10.666666666666666 +/- 3.872983346207417 while missing 0.25%.\n",
      "FPR 20% gives mean delay of -10.272727272727273 +/- 6.1064929540896955 while missing 0.08333333333333337%.\n"
     ]
    },
    {
     "name": "stderr",
     "output_type": "stream",
     "text": [
      "\n"
     ]
    }
   ],
   "source": [
    "discrete_fp_delays(thresh, test_errors, anomaly_labels, crash_reported)"
   ]
  },
  {
   "cell_type": "markdown",
   "metadata": {},
   "source": [
    "### Compute AUC"
   ]
  },
  {
   "cell_type": "code",
   "execution_count": 30,
   "metadata": {},
   "outputs": [
    {
     "data": {
      "text/plain": [
       "0.6117685733070348"
      ]
     },
     "execution_count": 30,
     "metadata": {},
     "output_type": "execute_result"
    }
   ],
   "source": [
    "calculate_auc(test_errors, anomaly_labels)"
   ]
  }
 ],
 "metadata": {
  "kernelspec": {
   "display_name": "transimputer-prognostics",
   "language": "python",
   "name": "python3"
  },
  "language_info": {
   "codemirror_mode": {
    "name": "ipython",
    "version": 3
   },
   "file_extension": ".py",
   "mimetype": "text/x-python",
   "name": "python",
   "nbconvert_exporter": "python",
   "pygments_lexer": "ipython3",
   "version": "3.11.3"
  }
 },
 "nbformat": 4,
 "nbformat_minor": 2
}
